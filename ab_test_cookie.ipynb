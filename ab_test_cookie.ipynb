{
 "cells": [
  {
   "cell_type": "markdown",
   "metadata": {},
   "source": [
    "# A/B testing on a videogame dataset\n",
    "The data come from [DataCamp](https://app.datacamp.com/learn/projects/184). The dataset contains player data from a mobile game called Cookie Cats developed by Tactile entertainment. The task is to determine whether moving the gate, an in-game mechanic that prevents players from progressing further without making a store purchase, from level 30 to 40 has any effect on the number of levels each user goes through"
   ]
  },
  {
   "cell_type": "code",
   "execution_count": 73,
   "metadata": {},
   "outputs": [],
   "source": [
    "import numpy as np\n",
    "import pandas as pd \n",
    "import seaborn as sns\n",
    "import matplotlib.pyplot as plt\n",
    "import os\n",
    "from scipy.stats import zscore"
   ]
  },
  {
   "cell_type": "code",
   "execution_count": 40,
   "metadata": {},
   "outputs": [],
   "source": [
    "cookie_df = pd.read_csv(\"/cookie/cookie_cats.csv\")"
   ]
  },
  {
   "cell_type": "code",
   "execution_count": 6,
   "metadata": {},
   "outputs": [
    {
     "name": "stdout",
     "output_type": "stream",
     "text": [
      "   userid  version  sum_gamerounds  retention_1  retention_7\n",
      "0     116  gate_30               3        False        False\n",
      "1     337  gate_30              38         True        False\n",
      "2     377  gate_40             165         True        False\n",
      "3     483  gate_40               1        False        False\n",
      "4     488  gate_40             179         True         True\n",
      "5     540  gate_40             187         True         True\n",
      "6    1066  gate_30               0        False        False\n",
      "7    1444  gate_40               2        False        False\n",
      "8    1574  gate_40             108         True         True\n",
      "9    1587  gate_40             153         True        False\n"
     ]
    }
   ],
   "source": [
    "print(cookie_df.head(10))"
   ]
  },
  {
   "cell_type": "code",
   "execution_count": 7,
   "metadata": {},
   "outputs": [
    {
     "name": "stdout",
     "output_type": "stream",
     "text": [
      "userid            0\n",
      "version           0\n",
      "sum_gamerounds    0\n",
      "retention_1       0\n",
      "retention_7       0\n",
      "dtype: int64\n"
     ]
    }
   ],
   "source": [
    "print(cookie_df.isna().sum())"
   ]
  },
  {
   "cell_type": "code",
   "execution_count": 12,
   "metadata": {},
   "outputs": [
    {
     "name": "stdout",
     "output_type": "stream",
     "text": [
      "<bound method NDFrame.describe of         userid  version  sum_gamerounds  retention_1  retention_7\n",
      "0          116  gate_30               3        False        False\n",
      "1          337  gate_30              38         True        False\n",
      "2          377  gate_40             165         True        False\n",
      "3          483  gate_40               1        False        False\n",
      "4          488  gate_40             179         True         True\n",
      "...        ...      ...             ...          ...          ...\n",
      "90184  9999441  gate_40              97         True        False\n",
      "90185  9999479  gate_40              30        False        False\n",
      "90186  9999710  gate_30              28         True        False\n",
      "90187  9999768  gate_40              51         True        False\n",
      "90188  9999861  gate_40              16        False        False\n",
      "\n",
      "[90189 rows x 5 columns]>\n"
     ]
    }
   ],
   "source": [
    "print(cookie_df.describe)"
   ]
  },
  {
   "cell_type": "markdown",
   "metadata": {},
   "source": [
    "Looking at the summary statistics for two different versions "
   ]
  },
  {
   "cell_type": "code",
   "execution_count": 14,
   "metadata": {},
   "outputs": [
    {
     "data": {
      "text/html": [
       "<div>\n",
       "<style scoped>\n",
       "    .dataframe tbody tr th:only-of-type {\n",
       "        vertical-align: middle;\n",
       "    }\n",
       "\n",
       "    .dataframe tbody tr th {\n",
       "        vertical-align: top;\n",
       "    }\n",
       "\n",
       "    .dataframe thead th {\n",
       "        text-align: right;\n",
       "    }\n",
       "</style>\n",
       "<table border=\"1\" class=\"dataframe\">\n",
       "  <thead>\n",
       "    <tr style=\"text-align: right;\">\n",
       "      <th></th>\n",
       "      <th>count</th>\n",
       "      <th>mean</th>\n",
       "      <th>std</th>\n",
       "      <th>min</th>\n",
       "      <th>max</th>\n",
       "    </tr>\n",
       "    <tr>\n",
       "      <th>version</th>\n",
       "      <th></th>\n",
       "      <th></th>\n",
       "      <th></th>\n",
       "      <th></th>\n",
       "      <th></th>\n",
       "    </tr>\n",
       "  </thead>\n",
       "  <tbody>\n",
       "    <tr>\n",
       "      <th>gate_30</th>\n",
       "      <td>44700</td>\n",
       "      <td>52.456264</td>\n",
       "      <td>256.716423</td>\n",
       "      <td>0</td>\n",
       "      <td>49854</td>\n",
       "    </tr>\n",
       "    <tr>\n",
       "      <th>gate_40</th>\n",
       "      <td>45489</td>\n",
       "      <td>51.298776</td>\n",
       "      <td>103.294416</td>\n",
       "      <td>0</td>\n",
       "      <td>2640</td>\n",
       "    </tr>\n",
       "  </tbody>\n",
       "</table>\n",
       "</div>"
      ],
      "text/plain": [
       "         count       mean         std  min    max\n",
       "version                                          \n",
       "gate_30  44700  52.456264  256.716423    0  49854\n",
       "gate_40  45489  51.298776  103.294416    0   2640"
      ]
     },
     "execution_count": 14,
     "metadata": {},
     "output_type": "execute_result"
    }
   ],
   "source": [
    "cookie_df.groupby(\"version\").sum_gamerounds.agg([\"count\", \"mean\", \"std\", \"min\", \"max\"])"
   ]
  },
  {
   "cell_type": "code",
   "execution_count": 15,
   "metadata": {},
   "outputs": [
    {
     "data": {
      "text/html": [
       "<div>\n",
       "<style scoped>\n",
       "    .dataframe tbody tr th:only-of-type {\n",
       "        vertical-align: middle;\n",
       "    }\n",
       "\n",
       "    .dataframe tbody tr th {\n",
       "        vertical-align: top;\n",
       "    }\n",
       "\n",
       "    .dataframe thead th {\n",
       "        text-align: right;\n",
       "    }\n",
       "</style>\n",
       "<table border=\"1\" class=\"dataframe\">\n",
       "  <thead>\n",
       "    <tr style=\"text-align: right;\">\n",
       "      <th></th>\n",
       "      <th>userid</th>\n",
       "      <th>version</th>\n",
       "      <th>sum_gamerounds</th>\n",
       "      <th>retention_1</th>\n",
       "      <th>retention_7</th>\n",
       "    </tr>\n",
       "  </thead>\n",
       "  <tbody>\n",
       "    <tr>\n",
       "      <th>6</th>\n",
       "      <td>1066</td>\n",
       "      <td>gate_30</td>\n",
       "      <td>0</td>\n",
       "      <td>False</td>\n",
       "      <td>False</td>\n",
       "    </tr>\n",
       "    <tr>\n",
       "      <th>11</th>\n",
       "      <td>2101</td>\n",
       "      <td>gate_30</td>\n",
       "      <td>0</td>\n",
       "      <td>False</td>\n",
       "      <td>False</td>\n",
       "    </tr>\n",
       "    <tr>\n",
       "      <th>26</th>\n",
       "      <td>3095</td>\n",
       "      <td>gate_30</td>\n",
       "      <td>0</td>\n",
       "      <td>False</td>\n",
       "      <td>False</td>\n",
       "    </tr>\n",
       "    <tr>\n",
       "      <th>35</th>\n",
       "      <td>4076</td>\n",
       "      <td>gate_40</td>\n",
       "      <td>0</td>\n",
       "      <td>False</td>\n",
       "      <td>False</td>\n",
       "    </tr>\n",
       "    <tr>\n",
       "      <th>37</th>\n",
       "      <td>4176</td>\n",
       "      <td>gate_30</td>\n",
       "      <td>0</td>\n",
       "      <td>False</td>\n",
       "      <td>False</td>\n",
       "    </tr>\n",
       "    <tr>\n",
       "      <th>...</th>\n",
       "      <td>...</td>\n",
       "      <td>...</td>\n",
       "      <td>...</td>\n",
       "      <td>...</td>\n",
       "      <td>...</td>\n",
       "    </tr>\n",
       "    <tr>\n",
       "      <th>90067</th>\n",
       "      <td>9986185</td>\n",
       "      <td>gate_30</td>\n",
       "      <td>0</td>\n",
       "      <td>False</td>\n",
       "      <td>False</td>\n",
       "    </tr>\n",
       "    <tr>\n",
       "      <th>90093</th>\n",
       "      <td>9988600</td>\n",
       "      <td>gate_40</td>\n",
       "      <td>0</td>\n",
       "      <td>False</td>\n",
       "      <td>False</td>\n",
       "    </tr>\n",
       "    <tr>\n",
       "      <th>90116</th>\n",
       "      <td>9990773</td>\n",
       "      <td>gate_30</td>\n",
       "      <td>0</td>\n",
       "      <td>False</td>\n",
       "      <td>False</td>\n",
       "    </tr>\n",
       "    <tr>\n",
       "      <th>90147</th>\n",
       "      <td>9994604</td>\n",
       "      <td>gate_30</td>\n",
       "      <td>0</td>\n",
       "      <td>False</td>\n",
       "      <td>False</td>\n",
       "    </tr>\n",
       "    <tr>\n",
       "      <th>90176</th>\n",
       "      <td>9998285</td>\n",
       "      <td>gate_30</td>\n",
       "      <td>0</td>\n",
       "      <td>False</td>\n",
       "      <td>False</td>\n",
       "    </tr>\n",
       "  </tbody>\n",
       "</table>\n",
       "<p>3994 rows × 5 columns</p>\n",
       "</div>"
      ],
      "text/plain": [
       "        userid  version  sum_gamerounds  retention_1  retention_7\n",
       "6         1066  gate_30               0        False        False\n",
       "11        2101  gate_30               0        False        False\n",
       "26        3095  gate_30               0        False        False\n",
       "35        4076  gate_40               0        False        False\n",
       "37        4176  gate_30               0        False        False\n",
       "...        ...      ...             ...          ...          ...\n",
       "90067  9986185  gate_30               0        False        False\n",
       "90093  9988600  gate_40               0        False        False\n",
       "90116  9990773  gate_30               0        False        False\n",
       "90147  9994604  gate_30               0        False        False\n",
       "90176  9998285  gate_30               0        False        False\n",
       "\n",
       "[3994 rows x 5 columns]"
      ]
     },
     "execution_count": 15,
     "metadata": {},
     "output_type": "execute_result"
    }
   ],
   "source": [
    "cookie_df[cookie_df['sum_gamerounds'] == 0]"
   ]
  },
  {
   "cell_type": "markdown",
   "metadata": {},
   "source": [
    "There are almost 4000 useers that never playerd a round"
   ]
  },
  {
   "cell_type": "code",
   "execution_count": 23,
   "metadata": {},
   "outputs": [
    {
     "data": {
      "image/png": "[encoded data removed]",
      "text/plain": [
       "<Figure size 2000x1000 with 2 Axes>"
      ]
     },
     "metadata": {},
     "output_type": "display_data"
    }
   ],
   "source": [
    "fig, axes = plt.subplots(2, 1, figsize = (20,10))\n",
    "cookie_df.groupby(\"sum_gamerounds\").userid.count().plot(ax = axes[0], color = 'purple', linewidth = 2)\n",
    "cookie_df.groupby(\"sum_gamerounds\").userid.count()[:100].plot(ax = axes[1], color = 'purple', linewidth = 2)\n",
    "plt.suptitle(\"Line plot for the number of users\", fontsize = 27)\n",
    "axes[0].set_title(\"Number of users as the match count increases\", fontsize = 18)\n",
    "axes[1].set_title(\"Number of users for the first 100 matches\", fontsize = 18)\n",
    "axes[0].set_xlabel(\"Sum of Gamerounds\", fontsize=14)\n",
    "axes[1].set_xlabel(\"Sum of Gamerounds (First 100)\", fontsize=14)\n",
    "axes[0].tick_params(axis='x', labelsize=12)\n",
    "axes[0].tick_params(axis='y', labelsize=12)\n",
    "axes[1].tick_params(axis='x', labelsize=12)\n",
    "axes[1].tick_params(axis='y', labelsize=12)\n",
    "\n",
    "plt.tight_layout(pad=5);\n",
    "plt.show()"
   ]
  },
  {
   "cell_type": "markdown",
   "metadata": {},
   "source": [
    "We observe that the number of players substantially drops before reaching twenty rounds and then reaches a plateau"
   ]
  },
  {
   "cell_type": "code",
   "execution_count": 25,
   "metadata": {},
   "outputs": [
    {
     "name": "stdout",
     "output_type": "stream",
     "text": [
      "The number of people coming back on the next day is 40153\n",
      "The number of people coming back after one week 16781\n"
     ]
    }
   ],
   "source": [
    "print(f\"The number of people coming back on the next day is {cookie_df['retention_1'].sum()}\")\n",
    "print(f\"The number of people coming back after one week {cookie_df['retention_7'].sum()}\")"
   ]
  },
  {
   "cell_type": "code",
   "execution_count": 26,
   "metadata": {},
   "outputs": [
    {
     "data": {
      "text/html": [
       "<div>\n",
       "<style scoped>\n",
       "    .dataframe tbody tr th:only-of-type {\n",
       "        vertical-align: middle;\n",
       "    }\n",
       "\n",
       "    .dataframe tbody tr th {\n",
       "        vertical-align: top;\n",
       "    }\n",
       "\n",
       "    .dataframe thead th {\n",
       "        text-align: right;\n",
       "    }\n",
       "</style>\n",
       "<table border=\"1\" class=\"dataframe\">\n",
       "  <thead>\n",
       "    <tr style=\"text-align: right;\">\n",
       "      <th></th>\n",
       "      <th>count</th>\n",
       "      <th>mean</th>\n",
       "      <th>std</th>\n",
       "      <th>min</th>\n",
       "      <th>max</th>\n",
       "    </tr>\n",
       "    <tr>\n",
       "      <th>retention_1</th>\n",
       "      <th></th>\n",
       "      <th></th>\n",
       "      <th></th>\n",
       "      <th></th>\n",
       "      <th></th>\n",
       "    </tr>\n",
       "  </thead>\n",
       "  <tbody>\n",
       "    <tr>\n",
       "      <th>False</th>\n",
       "      <td>50036</td>\n",
       "      <td>17.345651</td>\n",
       "      <td>225.725984</td>\n",
       "      <td>0</td>\n",
       "      <td>49854</td>\n",
       "    </tr>\n",
       "    <tr>\n",
       "      <th>True</th>\n",
       "      <td>40153</td>\n",
       "      <td>94.897467</td>\n",
       "      <td>136.472092</td>\n",
       "      <td>0</td>\n",
       "      <td>2961</td>\n",
       "    </tr>\n",
       "  </tbody>\n",
       "</table>\n",
       "</div>"
      ],
      "text/plain": [
       "             count       mean         std  min    max\n",
       "retention_1                                          \n",
       "False        50036  17.345651  225.725984    0  49854\n",
       "True         40153  94.897467  136.472092    0   2961"
      ]
     },
     "execution_count": 26,
     "metadata": {},
     "output_type": "execute_result"
    }
   ],
   "source": [
    "#Everything is expected here\n",
    "cookie_df.groupby(\"retention_1\").sum_gamerounds.agg([\"count\", \"mean\", \"std\", \"min\", \"max\"])"
   ]
  },
  {
   "cell_type": "code",
   "execution_count": 27,
   "metadata": {},
   "outputs": [
    {
     "data": {
      "text/html": [
       "<div>\n",
       "<style scoped>\n",
       "    .dataframe tbody tr th:only-of-type {\n",
       "        vertical-align: middle;\n",
       "    }\n",
       "\n",
       "    .dataframe tbody tr th {\n",
       "        vertical-align: top;\n",
       "    }\n",
       "\n",
       "    .dataframe thead th {\n",
       "        text-align: right;\n",
       "    }\n",
       "</style>\n",
       "<table border=\"1\" class=\"dataframe\">\n",
       "  <thead>\n",
       "    <tr style=\"text-align: right;\">\n",
       "      <th></th>\n",
       "      <th>count</th>\n",
       "      <th>mean</th>\n",
       "      <th>std</th>\n",
       "      <th>min</th>\n",
       "      <th>max</th>\n",
       "    </tr>\n",
       "    <tr>\n",
       "      <th>retention_7</th>\n",
       "      <th></th>\n",
       "      <th></th>\n",
       "      <th></th>\n",
       "      <th></th>\n",
       "      <th></th>\n",
       "    </tr>\n",
       "  </thead>\n",
       "  <tbody>\n",
       "    <tr>\n",
       "      <th>False</th>\n",
       "      <td>73408</td>\n",
       "      <td>25.826844</td>\n",
       "      <td>43.871744</td>\n",
       "      <td>0</td>\n",
       "      <td>2640</td>\n",
       "    </tr>\n",
       "    <tr>\n",
       "      <th>True</th>\n",
       "      <td>16781</td>\n",
       "      <td>165.808236</td>\n",
       "      <td>424.394739</td>\n",
       "      <td>0</td>\n",
       "      <td>49854</td>\n",
       "    </tr>\n",
       "  </tbody>\n",
       "</table>\n",
       "</div>"
      ],
      "text/plain": [
       "             count        mean         std  min    max\n",
       "retention_7                                           \n",
       "False        73408   25.826844   43.871744    0   2640\n",
       "True         16781  165.808236  424.394739    0  49854"
      ]
     },
     "execution_count": 27,
     "metadata": {},
     "output_type": "execute_result"
    }
   ],
   "source": [
    "#Everything is expected here\n",
    "cookie_df.groupby(\"retention_7\").sum_gamerounds.agg([\"count\", \"mean\", \"std\", \"min\", \"max\"])"
   ]
  },
  {
   "cell_type": "markdown",
   "metadata": {},
   "source": [
    "Analyzing retention rates together with versions"
   ]
  },
  {
   "cell_type": "code",
   "execution_count": 28,
   "metadata": {},
   "outputs": [
    {
     "data": {
      "text/html": [
       "<div>\n",
       "<style scoped>\n",
       "    .dataframe tbody tr th:only-of-type {\n",
       "        vertical-align: middle;\n",
       "    }\n",
       "\n",
       "    .dataframe tbody tr th {\n",
       "        vertical-align: top;\n",
       "    }\n",
       "\n",
       "    .dataframe thead th {\n",
       "        text-align: right;\n",
       "    }\n",
       "</style>\n",
       "<table border=\"1\" class=\"dataframe\">\n",
       "  <thead>\n",
       "    <tr style=\"text-align: right;\">\n",
       "      <th></th>\n",
       "      <th></th>\n",
       "      <th>count</th>\n",
       "      <th>median</th>\n",
       "      <th>mean</th>\n",
       "      <th>std</th>\n",
       "      <th>max</th>\n",
       "    </tr>\n",
       "    <tr>\n",
       "      <th>version</th>\n",
       "      <th>retention_1</th>\n",
       "      <th></th>\n",
       "      <th></th>\n",
       "      <th></th>\n",
       "      <th></th>\n",
       "      <th></th>\n",
       "    </tr>\n",
       "  </thead>\n",
       "  <tbody>\n",
       "    <tr>\n",
       "      <th rowspan=\"2\" valign=\"top\">gate_30</th>\n",
       "      <th>False</th>\n",
       "      <td>24666</td>\n",
       "      <td>6.0</td>\n",
       "      <td>18.379591</td>\n",
       "      <td>319.423232</td>\n",
       "      <td>49854</td>\n",
       "    </tr>\n",
       "    <tr>\n",
       "      <th>True</th>\n",
       "      <td>20034</td>\n",
       "      <td>48.0</td>\n",
       "      <td>94.411700</td>\n",
       "      <td>135.037697</td>\n",
       "      <td>2961</td>\n",
       "    </tr>\n",
       "    <tr>\n",
       "      <th rowspan=\"2\" valign=\"top\">gate_40</th>\n",
       "      <th>False</th>\n",
       "      <td>25370</td>\n",
       "      <td>6.0</td>\n",
       "      <td>16.340402</td>\n",
       "      <td>35.925756</td>\n",
       "      <td>1241</td>\n",
       "    </tr>\n",
       "    <tr>\n",
       "      <th>True</th>\n",
       "      <td>20119</td>\n",
       "      <td>49.0</td>\n",
       "      <td>95.381182</td>\n",
       "      <td>137.887256</td>\n",
       "      <td>2640</td>\n",
       "    </tr>\n",
       "  </tbody>\n",
       "</table>\n",
       "</div>"
      ],
      "text/plain": [
       "                     count  median       mean         std    max\n",
       "version retention_1                                             \n",
       "gate_30 False        24666     6.0  18.379591  319.423232  49854\n",
       "        True         20034    48.0  94.411700  135.037697   2961\n",
       "gate_40 False        25370     6.0  16.340402   35.925756   1241\n",
       "        True         20119    49.0  95.381182  137.887256   2640"
      ]
     },
     "execution_count": 28,
     "metadata": {},
     "output_type": "execute_result"
    }
   ],
   "source": [
    "cookie_df.groupby([\"version\", \"retention_1\"]).sum_gamerounds.agg([\"count\", \"median\", \"mean\", \"std\", \"max\"])"
   ]
  },
  {
   "cell_type": "markdown",
   "metadata": {},
   "source": [
    "## Strange observations"
   ]
  },
  {
   "cell_type": "code",
   "execution_count": 82,
   "metadata": {},
   "outputs": [
    {
     "data": {
      "text/html": [
       "<div>\n",
       "<style scoped>\n",
       "    .dataframe tbody tr th:only-of-type {\n",
       "        vertical-align: middle;\n",
       "    }\n",
       "\n",
       "    .dataframe tbody tr th {\n",
       "        vertical-align: top;\n",
       "    }\n",
       "\n",
       "    .dataframe thead th {\n",
       "        text-align: right;\n",
       "    }\n",
       "</style>\n",
       "<table border=\"1\" class=\"dataframe\">\n",
       "  <thead>\n",
       "    <tr style=\"text-align: right;\">\n",
       "      <th></th>\n",
       "      <th>userid</th>\n",
       "      <th>version</th>\n",
       "      <th>sum_gamerounds</th>\n",
       "      <th>retention_1</th>\n",
       "      <th>retention_7</th>\n",
       "      <th>version_AB</th>\n",
       "      <th>z_score</th>\n",
       "    </tr>\n",
       "  </thead>\n",
       "  <tbody>\n",
       "    <tr>\n",
       "      <th>10</th>\n",
       "      <td>1842</td>\n",
       "      <td>gate_40</td>\n",
       "      <td>3</td>\n",
       "      <td>False</td>\n",
       "      <td>True</td>\n",
       "      <td>B</td>\n",
       "      <td>-0.250564</td>\n",
       "    </tr>\n",
       "    <tr>\n",
       "      <th>23</th>\n",
       "      <td>2729</td>\n",
       "      <td>gate_30</td>\n",
       "      <td>105</td>\n",
       "      <td>False</td>\n",
       "      <td>True</td>\n",
       "      <td>A</td>\n",
       "      <td>0.272379</td>\n",
       "    </tr>\n",
       "    <tr>\n",
       "      <th>90</th>\n",
       "      <td>8788</td>\n",
       "      <td>gate_30</td>\n",
       "      <td>19</td>\n",
       "      <td>False</td>\n",
       "      <td>True</td>\n",
       "      <td>A</td>\n",
       "      <td>-0.168534</td>\n",
       "    </tr>\n",
       "    <tr>\n",
       "      <th>102</th>\n",
       "      <td>10200</td>\n",
       "      <td>gate_40</td>\n",
       "      <td>106</td>\n",
       "      <td>False</td>\n",
       "      <td>True</td>\n",
       "      <td>B</td>\n",
       "      <td>0.277506</td>\n",
       "    </tr>\n",
       "    <tr>\n",
       "      <th>143</th>\n",
       "      <td>13429</td>\n",
       "      <td>gate_30</td>\n",
       "      <td>60</td>\n",
       "      <td>False</td>\n",
       "      <td>True</td>\n",
       "      <td>A</td>\n",
       "      <td>0.041669</td>\n",
       "    </tr>\n",
       "    <tr>\n",
       "      <th>...</th>\n",
       "      <td>...</td>\n",
       "      <td>...</td>\n",
       "      <td>...</td>\n",
       "      <td>...</td>\n",
       "      <td>...</td>\n",
       "      <td>...</td>\n",
       "      <td>...</td>\n",
       "    </tr>\n",
       "    <tr>\n",
       "      <th>89967</th>\n",
       "      <td>9975174</td>\n",
       "      <td>gate_30</td>\n",
       "      <td>26</td>\n",
       "      <td>False</td>\n",
       "      <td>True</td>\n",
       "      <td>A</td>\n",
       "      <td>-0.132645</td>\n",
       "    </tr>\n",
       "    <tr>\n",
       "      <th>90044</th>\n",
       "      <td>9982773</td>\n",
       "      <td>gate_30</td>\n",
       "      <td>1</td>\n",
       "      <td>False</td>\n",
       "      <td>True</td>\n",
       "      <td>A</td>\n",
       "      <td>-0.260818</td>\n",
       "    </tr>\n",
       "    <tr>\n",
       "      <th>90046</th>\n",
       "      <td>9983040</td>\n",
       "      <td>gate_30</td>\n",
       "      <td>137</td>\n",
       "      <td>False</td>\n",
       "      <td>True</td>\n",
       "      <td>A</td>\n",
       "      <td>0.436440</td>\n",
       "    </tr>\n",
       "    <tr>\n",
       "      <th>90156</th>\n",
       "      <td>9996093</td>\n",
       "      <td>gate_40</td>\n",
       "      <td>23</td>\n",
       "      <td>False</td>\n",
       "      <td>True</td>\n",
       "      <td>B</td>\n",
       "      <td>-0.148026</td>\n",
       "    </tr>\n",
       "    <tr>\n",
       "      <th>90165</th>\n",
       "      <td>9996935</td>\n",
       "      <td>gate_30</td>\n",
       "      <td>35</td>\n",
       "      <td>False</td>\n",
       "      <td>True</td>\n",
       "      <td>A</td>\n",
       "      <td>-0.086503</td>\n",
       "    </tr>\n",
       "  </tbody>\n",
       "</table>\n",
       "<p>3599 rows × 7 columns</p>\n",
       "</div>"
      ],
      "text/plain": [
       "        userid  version  sum_gamerounds  retention_1  retention_7 version_AB  \\\n",
       "10        1842  gate_40               3        False         True          B   \n",
       "23        2729  gate_30             105        False         True          A   \n",
       "90        8788  gate_30              19        False         True          A   \n",
       "102      10200  gate_40             106        False         True          B   \n",
       "143      13429  gate_30              60        False         True          A   \n",
       "...        ...      ...             ...          ...          ...        ...   \n",
       "89967  9975174  gate_30              26        False         True          A   \n",
       "90044  9982773  gate_30               1        False         True          A   \n",
       "90046  9983040  gate_30             137        False         True          A   \n",
       "90156  9996093  gate_40              23        False         True          B   \n",
       "90165  9996935  gate_30              35        False         True          A   \n",
       "\n",
       "        z_score  \n",
       "10    -0.250564  \n",
       "23     0.272379  \n",
       "90    -0.168534  \n",
       "102    0.277506  \n",
       "143    0.041669  \n",
       "...         ...  \n",
       "89967 -0.132645  \n",
       "90044 -0.260818  \n",
       "90046  0.436440  \n",
       "90156 -0.148026  \n",
       "90165 -0.086503  \n",
       "\n",
       "[3599 rows x 7 columns]"
      ]
     },
     "execution_count": 82,
     "metadata": {},
     "output_type": "execute_result"
    }
   ],
   "source": [
    "#There are individuals that did not play one day after installing but came back a week later\n",
    "cookie_df[(cookie_df['retention_1'] == False) & (cookie_df['retention_7'] == True)]"
   ]
  },
  {
   "cell_type": "markdown",
   "metadata": {},
   "source": [
    "## Checking the data for potential outliers"
   ]
  },
  {
   "cell_type": "code",
   "execution_count": 76,
   "metadata": {},
   "outputs": [],
   "source": [
    "def locate_outliers(df):\n",
    "    df['z_score'] = zscore(df['sum_gamerounds'])\n",
    "\n",
    "    outliers = df[df['z_score'].abs() > 3]\n",
    "\n",
    "    return outliers"
   ]
  },
  {
   "cell_type": "code",
   "execution_count": 79,
   "metadata": {},
   "outputs": [
    {
     "data": {
      "text/html": [
       "<div>\n",
       "<style scoped>\n",
       "    .dataframe tbody tr th:only-of-type {\n",
       "        vertical-align: middle;\n",
       "    }\n",
       "\n",
       "    .dataframe tbody tr th {\n",
       "        vertical-align: top;\n",
       "    }\n",
       "\n",
       "    .dataframe thead th {\n",
       "        text-align: right;\n",
       "    }\n",
       "</style>\n",
       "<table border=\"1\" class=\"dataframe\">\n",
       "  <thead>\n",
       "    <tr style=\"text-align: right;\">\n",
       "      <th></th>\n",
       "      <th>userid</th>\n",
       "      <th>version</th>\n",
       "      <th>sum_gamerounds</th>\n",
       "      <th>retention_1</th>\n",
       "      <th>retention_7</th>\n",
       "      <th>version_AB</th>\n",
       "      <th>z_score</th>\n",
       "    </tr>\n",
       "  </thead>\n",
       "  <tbody>\n",
       "    <tr>\n",
       "      <th>601</th>\n",
       "      <td>63617</td>\n",
       "      <td>gate_30</td>\n",
       "      <td>902</td>\n",
       "      <td>True</td>\n",
       "      <td>True</td>\n",
       "      <td>A</td>\n",
       "      <td>4.358516</td>\n",
       "    </tr>\n",
       "    <tr>\n",
       "      <th>655</th>\n",
       "      <td>69927</td>\n",
       "      <td>gate_30</td>\n",
       "      <td>1906</td>\n",
       "      <td>True</td>\n",
       "      <td>True</td>\n",
       "      <td>A</td>\n",
       "      <td>9.505920</td>\n",
       "    </tr>\n",
       "    <tr>\n",
       "      <th>865</th>\n",
       "      <td>97308</td>\n",
       "      <td>gate_30</td>\n",
       "      <td>798</td>\n",
       "      <td>True</td>\n",
       "      <td>True</td>\n",
       "      <td>A</td>\n",
       "      <td>3.825319</td>\n",
       "    </tr>\n",
       "    <tr>\n",
       "      <th>1097</th>\n",
       "      <td>121303</td>\n",
       "      <td>gate_30</td>\n",
       "      <td>1374</td>\n",
       "      <td>True</td>\n",
       "      <td>True</td>\n",
       "      <td>A</td>\n",
       "      <td>6.778411</td>\n",
       "    </tr>\n",
       "    <tr>\n",
       "      <th>1264</th>\n",
       "      <td>139072</td>\n",
       "      <td>gate_40</td>\n",
       "      <td>681</td>\n",
       "      <td>False</td>\n",
       "      <td>True</td>\n",
       "      <td>B</td>\n",
       "      <td>3.225472</td>\n",
       "    </tr>\n",
       "    <tr>\n",
       "      <th>1444</th>\n",
       "      <td>156697</td>\n",
       "      <td>gate_30</td>\n",
       "      <td>762</td>\n",
       "      <td>True</td>\n",
       "      <td>True</td>\n",
       "      <td>A</td>\n",
       "      <td>3.640750</td>\n",
       "    </tr>\n",
       "    <tr>\n",
       "      <th>1707</th>\n",
       "      <td>185512</td>\n",
       "      <td>gate_40</td>\n",
       "      <td>934</td>\n",
       "      <td>True</td>\n",
       "      <td>True</td>\n",
       "      <td>B</td>\n",
       "      <td>4.522577</td>\n",
       "    </tr>\n",
       "    <tr>\n",
       "      <th>1891</th>\n",
       "      <td>204251</td>\n",
       "      <td>gate_30</td>\n",
       "      <td>750</td>\n",
       "      <td>True</td>\n",
       "      <td>True</td>\n",
       "      <td>A</td>\n",
       "      <td>3.579228</td>\n",
       "    </tr>\n",
       "    <tr>\n",
       "      <th>1968</th>\n",
       "      <td>213035</td>\n",
       "      <td>gate_40</td>\n",
       "      <td>784</td>\n",
       "      <td>False</td>\n",
       "      <td>True</td>\n",
       "      <td>B</td>\n",
       "      <td>3.753542</td>\n",
       "    </tr>\n",
       "    <tr>\n",
       "      <th>2257</th>\n",
       "      <td>248748</td>\n",
       "      <td>gate_30</td>\n",
       "      <td>1309</td>\n",
       "      <td>True</td>\n",
       "      <td>True</td>\n",
       "      <td>A</td>\n",
       "      <td>6.445163</td>\n",
       "    </tr>\n",
       "  </tbody>\n",
       "</table>\n",
       "</div>"
      ],
      "text/plain": [
       "      userid  version  sum_gamerounds  retention_1  retention_7 version_AB  \\\n",
       "601    63617  gate_30             902         True         True          A   \n",
       "655    69927  gate_30            1906         True         True          A   \n",
       "865    97308  gate_30             798         True         True          A   \n",
       "1097  121303  gate_30            1374         True         True          A   \n",
       "1264  139072  gate_40             681        False         True          B   \n",
       "1444  156697  gate_30             762         True         True          A   \n",
       "1707  185512  gate_40             934         True         True          B   \n",
       "1891  204251  gate_30             750         True         True          A   \n",
       "1968  213035  gate_40             784        False         True          B   \n",
       "2257  248748  gate_30            1309         True         True          A   \n",
       "\n",
       "       z_score  \n",
       "601   4.358516  \n",
       "655   9.505920  \n",
       "865   3.825319  \n",
       "1097  6.778411  \n",
       "1264  3.225472  \n",
       "1444  3.640750  \n",
       "1707  4.522577  \n",
       "1891  3.579228  \n",
       "1968  3.753542  \n",
       "2257  6.445163  "
      ]
     },
     "execution_count": 79,
     "metadata": {},
     "output_type": "execute_result"
    }
   ],
   "source": [
    "outlier_df = locate_outliers(cookie_df)\n",
    "outlier_df.head(10)"
   ]
  },
  {
   "cell_type": "markdown",
   "metadata": {},
   "source": [
    "# A/B Testing"
   ]
  },
  {
   "cell_type": "code",
   "execution_count": 89,
   "metadata": {},
   "outputs": [],
   "source": [
    "from scipy.stats import normaltest, mannwhitneyu, levene, stats, kruskal\n",
    "import matplotlib.pyplot as plt\n",
    "cookie_df[\"version_AB\"] = np.where(cookie_df.version == \"gate_30\", \"A\", \"B\")\n",
    "gA = cookie_df[cookie_df['version_AB'] == \"A\"]['sum_gamerounds']\n",
    "gB = cookie_df[cookie_df['version_AB'] == \"B\"]['sum_gamerounds']"
   ]
  },
  {
   "cell_type": "markdown",
   "metadata": {},
   "source": [
    "## Checking normality conditions\n",
    "The null hypothesis: The distribution is Normal \n",
    "The alternative hypothesis: The distribution is not normal"
   ]
  },
  {
   "cell_type": "code",
   "execution_count": 46,
   "metadata": {},
   "outputs": [
    {
     "data": {
      "image/png": "[encoded data removed]",
      "text/plain": [
       "<Figure size 640x480 with 1 Axes>"
      ]
     },
     "metadata": {},
     "output_type": "display_data"
    },
    {
     "data": {
      "image/png": "[encoded data removed]",
      "text/plain": [
       "<Figure size 640x480 with 1 Axes>"
      ]
     },
     "metadata": {},
     "output_type": "display_data"
    },
    {
     "name": "stdout",
     "output_type": "stream",
     "text": [
      "The test result for Group A is True, and the test result for Group B is True\n"
     ]
    }
   ],
   "source": [
    "# D’Agostino’s K-squared Test\n",
    "ksA = normaltest(gA)[1] < 0.05\n",
    "ksB = normaltest(gB)[1] < 0.05\n",
    "stats.probplot(gA, dist=\"norm\", plot=plt)\n",
    "plt.title(\"QQ Plot for Group A\")\n",
    "plt.show()\n",
    "\n",
    "# QQ Plot for Group B\n",
    "stats.probplot(gB, dist=\"norm\", plot=plt)\n",
    "plt.title(\"QQ Plot for Group B\")\n",
    "plt.show()\n",
    "print(f\"The test result for Group A is {ksA}, and the test result for Group B is {ksB}\")"
   ]
  },
  {
   "cell_type": "markdown",
   "metadata": {},
   "source": [
    "Since both distributions are not normal, Mann-Whitney is one of the best tools for non-parametric comparison"
   ]
  },
  {
   "cell_type": "code",
   "execution_count": 54,
   "metadata": {},
   "outputs": [
    {
     "name": "stdout",
     "output_type": "stream",
     "text": [
      "0.05020880772044255\n",
      "There is no statistically significant difference between the groups.\n"
     ]
    }
   ],
   "source": [
    "U_stat, p_value = mannwhitneyu(gA, gB)\n",
    "if p_value < 0.05:\n",
    "    print(\"There is a statistically significant difference between the groups.\")\n",
    "else:\n",
    "    print(\"There is no statistically significant difference between the groups.\")"
   ]
  },
  {
   "cell_type": "code",
   "execution_count": 65,
   "metadata": {},
   "outputs": [],
   "source": [
    "# Trying the permutaton test instead of MWU \n",
    "n_simulations = 1000\n",
    "g_a_length = len(gA)\n",
    "g_b_length = len(gB)\n",
    "all_users = pd.concat([gA, gB], ignore_index = True)\n",
    "simulated_diffs = []\n",
    "\n",
    "\n",
    "for i in range(n_simulations):\n",
    "    users_shuffled = np.random.permutation(all_users)\n",
    "    users_gA_simulated = users_shuffled[:g_a_length]\n",
    "    gB_simulated = users_shuffled[g_a_length:]\n",
    "    simulated_diff = np.mean(users_gA_simulated) - np.mean(gB_simulated)\n",
    "    simulated_diffs.append(simulated_diff)\n",
    "    \n",
    "real_diff = np.mean(gA) - np.mean(gB)\n",
    "upper_bound = np.quantile(simulated_diffs, 0.975)\n",
    "lower_bound = np.quantile(simulated_diffs, 0.025)"
   ]
  },
  {
   "cell_type": "code",
   "execution_count": 66,
   "metadata": {},
   "outputs": [
    {
     "name": "stdout",
     "output_type": "stream",
     "text": [
      "-2.16 2.24 1.16\n"
     ]
    }
   ],
   "source": [
    "print(lower_bound.round(2), upper_bound.round(2), real_diff.round(2))"
   ]
  },
  {
   "cell_type": "markdown",
   "metadata": {},
   "source": [
    "The real difference again lies inside the interval, indicating that the groups are not statistically significant"
   ]
  },
  {
   "cell_type": "markdown",
   "metadata": {},
   "source": [
    "## Estimating the effect of version on retention"
   ]
  },
  {
   "cell_type": "code",
   "execution_count": 122,
   "metadata": {},
   "outputs": [
    {
     "name": "stdout",
     "output_type": "stream",
     "text": [
      "\n",
      "Chi-Square Statistic: 3.1591007878782262\n",
      "p-value: 0.07550476210309098\n",
      "Degrees of Freedom: 1\n",
      "Expected Frequencies:\n",
      " version_AB                    A            B\n",
      "retained_count      19900.86485  20252.13515\n",
      "not_retained_count  24799.13515  25236.86485\n"
     ]
    }
   ],
   "source": [
    "from scipy.stats import chi2_contingency\n",
    "\n",
    "\n",
    "def chi2_pipe(df, col_name):\n",
    "    count_df = df.groupby('version_AB')[col_name].agg(['sum', 'count'])\n",
    "    # Rename columns for clarity\n",
    "    count_df.columns = ['retained_count', 'total_count']\n",
    "    count_df['not_retained_count'] = count_df['total_count'] - count_df['retained_count']\n",
    "    contingency_table = count_df[['retained_count', 'not_retained_count']].T\n",
    "    chi2, p, dof, expected = chi2_contingency(contingency_table) \n",
    "    return chi2, p, dof, expected, contingency_table\n",
    "chi2, p, dof, expected, c_table = chi2_pipe(cookie_df, 'retention_1')\n",
    "print(f\"\\nChi-Square Statistic: {chi2}\")\n",
    "print(f\"p-value: {p}\")\n",
    "print(f\"Degrees of Freedom: {dof}\")\n",
    "print(\"Expected Frequencies:\\n\", pd.DataFrame(expected, index=c_table.index, columns=c_table.columns))"
   ]
  },
  {
   "cell_type": "code",
   "execution_count": 119,
   "metadata": {},
   "outputs": [
    {
     "name": "stdout",
     "output_type": "stream",
     "text": [
      "\n",
      "Chi-Square Statistic: 9.959086799559167\n",
      "p-value: 0.00160057426790583\n",
      "Degrees of Freedom: 1\n",
      "Expected Frequencies:\n",
      " version_AB                     A             B\n",
      "retained_count       8317.097429   8463.902571\n",
      "not_retained_count  36382.902571  37025.097429\n"
     ]
    }
   ],
   "source": [
    "chi2, p, dof, expected, c_table = chi2_pipe(cookie_df, 'retention_7')\n",
    "print(f\"\\nChi-Square Statistic: {chi2}\")\n",
    "print(f\"p-value: {p}\")\n",
    "print(f\"Degrees of Freedom: {dof}\")\n",
    "print(\"Expected Frequencies:\\n\", pd.DataFrame(expected, index=c_table.index, columns=c_table.columns))"
   ]
  },
  {
   "cell_type": "markdown",
   "metadata": {},
   "source": [
    "Although the results are significant, there is virtually no difference between the retention rates"
   ]
  },
  {
   "cell_type": "markdown",
   "metadata": {},
   "source": [
    "## Two-way comparison (only illustrative purpose)"
   ]
  },
  {
   "cell_type": "code",
   "execution_count": null,
   "metadata": {},
   "outputs": [],
   "source": [
    "import statsmodels.api as sm\n",
    "from statsmodels.formula.api import ols"
   ]
  },
  {
   "cell_type": "code",
   "execution_count": 98,
   "metadata": {},
   "outputs": [],
   "source": [
    "cookie_df['retention_status'] = np.select(\n",
    "    [\n",
    "        (cookie_df['retention_1'] == False) & (cookie_df['retention_7'] == False),\n",
    "        (cookie_df['retention_1'] == True) & (cookie_df['retention_7'] == False),\n",
    "        (cookie_df['retention_1'] == False) & (cookie_df['retention_7'] == True),\n",
    "        (cookie_df['retention_1'] == True) & (cookie_df['retention_7'] == True)\n",
    "    ],\n",
    "    [\n",
    "        'No_Retention', \n",
    "        'Retention_1_Only', \n",
    "        'Retention_7_Only', \n",
    "        'Both_Retentions'\n",
    "    ],\n",
    "    default='Unknown'  # Ensure the default is also a string\n",
    ")\n",
    "\n",
    "# Convert the version and retention status to categorical variables\n",
    "cookie_df['version_cat'] = cookie_df['version'].astype('category')\n",
    "cookie_df['retention_status_cat'] = cookie_df['retention_status'].astype('category')"
   ]
  },
  {
   "cell_type": "code",
   "execution_count": 94,
   "metadata": {},
   "outputs": [
    {
     "name": "stdout",
     "output_type": "stream",
     "text": [
      "Levene’s Test: W=561.7068433130363, p-value=0.0\n"
     ]
    },
    {
     "name": "stderr",
     "output_type": "stream",
     "text": [
      "/var/folders/1r/ljftvmg51t30bgx2cp783qbm0000gn/T/ipykernel_27687/598954629.py:1: FutureWarning: The default of observed=False is deprecated and will be changed to True in a future version of pandas. Pass observed=False to retain current behavior or observed=True to adopt the future default and silence this warning.\n",
      "  groups = cookie_df.groupby(['version_cat', 'retention_status'])['sum_gamerounds']\n"
     ]
    }
   ],
   "source": [
    "groups = cookie_df.groupby(['version_cat', 'retention_status'])['sum_gamerounds']\n",
    "\n",
    "# Extract each group as a separate series for Levene's test\n",
    "group_values = [group for name, group in groups]\n",
    "\n",
    "# Perform Levene's test to check for homogeneity of variances\n",
    "levene_test = levene(*group_values)\n",
    "print(f\"Levene’s Test: W={levene_test.statistic}, p-value={levene_test.pvalue}\")"
   ]
  },
  {
   "cell_type": "markdown",
   "metadata": {},
   "source": [
    "I cannot use the two-way ANOVA because the leven test failed"
   ]
  },
  {
   "cell_type": "code",
   "execution_count": 95,
   "metadata": {},
   "outputs": [
    {
     "name": "stdout",
     "output_type": "stream",
     "text": [
      "Kruskal-Wallis Test: H-statistic=46332.581190302495, p-value=0.0\n"
     ]
    }
   ],
   "source": [
    "kruskal_test = kruskal(*group_values)\n",
    "print(f\"Kruskal-Wallis Test: H-statistic={kruskal_test.statistic}, p-value={kruskal_test.pvalue}\")"
   ]
  },
  {
   "cell_type": "code",
   "execution_count": 100,
   "metadata": {},
   "outputs": [
    {
     "name": "stdout",
     "output_type": "stream",
     "text": [
      "                          gate_30_Both_Retentions  gate_30_No_Retention  \\\n",
      "gate_30_Both_Retentions              1.000000e+00                   0.0   \n",
      "gate_30_No_Retention                 0.000000e+00                   1.0   \n",
      "gate_30_Retention_1_Only             0.000000e+00                   0.0   \n",
      "gate_30_Retention_7_Only            3.275379e-125                   0.0   \n",
      "gate_40_Both_Retentions              1.000000e+00                   0.0   \n",
      "gate_40_No_Retention                 0.000000e+00                   1.0   \n",
      "gate_40_Retention_1_Only             0.000000e+00                   0.0   \n",
      "gate_40_Retention_7_Only            1.494118e-117                   0.0   \n",
      "\n",
      "                          gate_30_Retention_1_Only  gate_30_Retention_7_Only  \\\n",
      "gate_30_Both_Retentions               0.000000e+00             3.275379e-125   \n",
      "gate_30_No_Retention                  0.000000e+00              0.000000e+00   \n",
      "gate_30_Retention_1_Only              1.000000e+00              4.974376e-08   \n",
      "gate_30_Retention_7_Only              4.974376e-08              1.000000e+00   \n",
      "gate_40_Both_Retentions               0.000000e+00             1.608831e-130   \n",
      "gate_40_No_Retention                  0.000000e+00              0.000000e+00   \n",
      "gate_40_Retention_1_Only              1.000000e+00              4.681669e-08   \n",
      "gate_40_Retention_7_Only              3.408548e-09              1.000000e+00   \n",
      "\n",
      "                          gate_40_Both_Retentions  gate_40_No_Retention  \\\n",
      "gate_30_Both_Retentions              1.000000e+00                   0.0   \n",
      "gate_30_No_Retention                 0.000000e+00                   1.0   \n",
      "gate_30_Retention_1_Only             0.000000e+00                   0.0   \n",
      "gate_30_Retention_7_Only            1.608831e-130                   0.0   \n",
      "gate_40_Both_Retentions              1.000000e+00                   0.0   \n",
      "gate_40_No_Retention                 0.000000e+00                   1.0   \n",
      "gate_40_Retention_1_Only             0.000000e+00                   0.0   \n",
      "gate_40_Retention_7_Only            1.147546e-122                   0.0   \n",
      "\n",
      "                          gate_40_Retention_1_Only  gate_40_Retention_7_Only  \n",
      "gate_30_Both_Retentions               0.000000e+00             1.494118e-117  \n",
      "gate_30_No_Retention                  0.000000e+00              0.000000e+00  \n",
      "gate_30_Retention_1_Only              1.000000e+00              3.408548e-09  \n",
      "gate_30_Retention_7_Only              4.681669e-08              1.000000e+00  \n",
      "gate_40_Both_Retentions               0.000000e+00             1.147546e-122  \n",
      "gate_40_No_Retention                  0.000000e+00              0.000000e+00  \n",
      "gate_40_Retention_1_Only              1.000000e+00              3.189842e-09  \n",
      "gate_40_Retention_7_Only              3.189842e-09              1.000000e+00  \n"
     ]
    }
   ],
   "source": [
    "from scikit_posthocs import posthoc_dunn\n",
    "cookie_df['group_kruskal'] = cookie_df['version'] + '_' + cookie_df['retention_status']\n",
    "# Let's see which groups are different from one another\n",
    "posthoc_results = posthoc_dunn(cookie_df, val_col='sum_gamerounds', group_col='group_kruskal', p_adjust='bonferroni')\n",
    "print(posthoc_results)\n"
   ]
  },
  {
   "cell_type": "code",
   "execution_count": 105,
   "metadata": {},
   "outputs": [
    {
     "name": "stdout",
     "output_type": "stream",
     "text": [
      "\n",
      "Significant Pairs (p < 0.05) with Median Differences:\n",
      "                     Group 1                   Group 2        p-value  \\\n",
      "0    gate_30_Both_Retentions      gate_30_No_Retention   0.000000e+00   \n",
      "1    gate_30_Both_Retentions  gate_30_Retention_1_Only   0.000000e+00   \n",
      "2    gate_30_Both_Retentions  gate_30_Retention_7_Only  3.275379e-125   \n",
      "3    gate_30_Both_Retentions      gate_40_No_Retention   0.000000e+00   \n",
      "4    gate_30_Both_Retentions  gate_40_Retention_1_Only   0.000000e+00   \n",
      "5    gate_30_Both_Retentions  gate_40_Retention_7_Only  1.494118e-117   \n",
      "6       gate_30_No_Retention   gate_30_Both_Retentions   0.000000e+00   \n",
      "7       gate_30_No_Retention  gate_30_Retention_1_Only   0.000000e+00   \n",
      "8       gate_30_No_Retention  gate_30_Retention_7_Only   0.000000e+00   \n",
      "9       gate_30_No_Retention   gate_40_Both_Retentions   0.000000e+00   \n",
      "10      gate_30_No_Retention  gate_40_Retention_1_Only   0.000000e+00   \n",
      "11      gate_30_No_Retention  gate_40_Retention_7_Only   0.000000e+00   \n",
      "12  gate_30_Retention_1_Only   gate_30_Both_Retentions   0.000000e+00   \n",
      "13  gate_30_Retention_1_Only      gate_30_No_Retention   0.000000e+00   \n",
      "14  gate_30_Retention_1_Only  gate_30_Retention_7_Only   4.974376e-08   \n",
      "15  gate_30_Retention_1_Only   gate_40_Both_Retentions   0.000000e+00   \n",
      "16  gate_30_Retention_1_Only      gate_40_No_Retention   0.000000e+00   \n",
      "17  gate_30_Retention_1_Only  gate_40_Retention_7_Only   3.408548e-09   \n",
      "18  gate_30_Retention_7_Only   gate_30_Both_Retentions  3.275379e-125   \n",
      "19  gate_30_Retention_7_Only      gate_30_No_Retention   0.000000e+00   \n",
      "20  gate_30_Retention_7_Only  gate_30_Retention_1_Only   4.974376e-08   \n",
      "21  gate_30_Retention_7_Only   gate_40_Both_Retentions  1.608831e-130   \n",
      "22  gate_30_Retention_7_Only      gate_40_No_Retention   0.000000e+00   \n",
      "23  gate_30_Retention_7_Only  gate_40_Retention_1_Only   4.681669e-08   \n",
      "24   gate_40_Both_Retentions      gate_30_No_Retention   0.000000e+00   \n",
      "25   gate_40_Both_Retentions  gate_30_Retention_1_Only   0.000000e+00   \n",
      "26   gate_40_Both_Retentions  gate_30_Retention_7_Only  1.608831e-130   \n",
      "27   gate_40_Both_Retentions      gate_40_No_Retention   0.000000e+00   \n",
      "28   gate_40_Both_Retentions  gate_40_Retention_1_Only   0.000000e+00   \n",
      "29   gate_40_Both_Retentions  gate_40_Retention_7_Only  1.147546e-122   \n",
      "30      gate_40_No_Retention   gate_30_Both_Retentions   0.000000e+00   \n",
      "31      gate_40_No_Retention  gate_30_Retention_1_Only   0.000000e+00   \n",
      "32      gate_40_No_Retention  gate_30_Retention_7_Only   0.000000e+00   \n",
      "33      gate_40_No_Retention   gate_40_Both_Retentions   0.000000e+00   \n",
      "34      gate_40_No_Retention  gate_40_Retention_1_Only   0.000000e+00   \n",
      "35      gate_40_No_Retention  gate_40_Retention_7_Only   0.000000e+00   \n",
      "36  gate_40_Retention_1_Only   gate_30_Both_Retentions   0.000000e+00   \n",
      "37  gate_40_Retention_1_Only      gate_30_No_Retention   0.000000e+00   \n",
      "38  gate_40_Retention_1_Only  gate_30_Retention_7_Only   4.681669e-08   \n",
      "39  gate_40_Retention_1_Only   gate_40_Both_Retentions   0.000000e+00   \n",
      "40  gate_40_Retention_1_Only      gate_40_No_Retention   0.000000e+00   \n",
      "41  gate_40_Retention_1_Only  gate_40_Retention_7_Only   3.189842e-09   \n",
      "42  gate_40_Retention_7_Only   gate_30_Both_Retentions  1.494118e-117   \n",
      "43  gate_40_Retention_7_Only      gate_30_No_Retention   0.000000e+00   \n",
      "44  gate_40_Retention_7_Only  gate_30_Retention_1_Only   3.408548e-09   \n",
      "45  gate_40_Retention_7_Only   gate_40_Both_Retentions  1.147546e-122   \n",
      "46  gate_40_Retention_7_Only      gate_40_No_Retention   0.000000e+00   \n",
      "47  gate_40_Retention_7_Only  gate_40_Retention_1_Only   3.189842e-09   \n",
      "\n",
      "    Difference  \n",
      "0        121.0  \n",
      "1         94.0  \n",
      "2         84.0  \n",
      "3        121.0  \n",
      "4         95.0  \n",
      "5         80.0  \n",
      "6       -121.0  \n",
      "7        -27.0  \n",
      "8        -37.0  \n",
      "9       -127.0  \n",
      "10       -26.0  \n",
      "11       -41.0  \n",
      "12       -94.0  \n",
      "13        27.0  \n",
      "14       -10.0  \n",
      "15      -100.0  \n",
      "16        27.0  \n",
      "17       -14.0  \n",
      "18       -84.0  \n",
      "19        37.0  \n",
      "20        10.0  \n",
      "21       -90.0  \n",
      "22        37.0  \n",
      "23        11.0  \n",
      "24       127.0  \n",
      "25       100.0  \n",
      "26        90.0  \n",
      "27       127.0  \n",
      "28       101.0  \n",
      "29        86.0  \n",
      "30      -121.0  \n",
      "31       -27.0  \n",
      "32       -37.0  \n",
      "33      -127.0  \n",
      "34       -26.0  \n",
      "35       -41.0  \n",
      "36       -95.0  \n",
      "37        26.0  \n",
      "38       -11.0  \n",
      "39      -101.0  \n",
      "40        26.0  \n",
      "41       -15.0  \n",
      "42       -80.0  \n",
      "43        41.0  \n",
      "44        14.0  \n",
      "45       -86.0  \n",
      "46        41.0  \n",
      "47        15.0  \n"
     ]
    }
   ],
   "source": [
    "significant_pairs = posthoc_results[posthoc_results < 0.05]\n",
    "significant_pairs = significant_pairs.stack().reset_index()\n",
    "significant_pairs.columns = ['Group 1', 'Group 2', 'p-value']\n",
    "    \n",
    "    # Calculate the median difference between each pair of groups\n",
    "group_medians = cookie_df.groupby('group_kruskal')['sum_gamerounds'].median()\n",
    "\n",
    "# Add the difference in medians to the significant pairs\n",
    "significant_pairs['Difference'] = significant_pairs.apply(\n",
    "    lambda row: group_medians[row['Group 1']] - group_medians[row['Group 2']], axis=1\n",
    ")\n",
    "\n",
    "print(\"\\nSignificant Pairs (p < 0.05) with Median Differences:\")\n",
    "print(significant_pairs)"
   ]
  },
  {
   "cell_type": "markdown",
   "metadata": {},
   "source": [
    "This two-way analysis is rather hard to interpret due to the fact that we do not have access to time data. "
   ]
  }
 ],
 "metadata": {
  "kernelspec": {
   "display_name": "myenv",
   "language": "python",
   "name": "python3"
  },
  "language_info": {
   "codemirror_mode": {
    "name": "ipython",
    "version": 3
   },
   "file_extension": ".py",
   "mimetype": "text/x-python",
   "name": "python",
   "nbconvert_exporter": "python",
   "pygments_lexer": "ipython3",
   "version": "3.11.4"
  }
 },
 "nbformat": 4,
 "nbformat_minor": 2
}
