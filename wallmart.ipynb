{
 "cells": [
  {
   "cell_type": "markdown",
   "metadata": {},
   "source": [
    "### Load in the Data Source"
   ]
  },
  {
   "cell_type": "code",
   "execution_count": null,
   "metadata": {
    "vscode": {
     "languageId": "sql"
    }
   },
   "outputs": [],
   "source": [
    "SELECT *\n",
    "FROM public.grocery_sales;"
   ]
  },
  {
   "cell_type": "markdown",
   "metadata": {},
   "source": [
    "### Importing other libraries"
   ]
  },
  {
   "cell_type": "code",
   "execution_count": null,
   "metadata": {},
   "outputs": [],
   "source": [
    "import pandas as pd\n",
    "import os\n",
    "import matplotlib.pyplot as plt\n",
    "\n",
    "# Start here...\n",
    "\n",
    "def extract(df1, df2_path):\n",
    "    df2 = pd.read_parquet(df2_path)\n",
    "    full_df = pd.merge(df1, df2, how = \"left\", on = \"index\")\n",
    "    return full_df\n",
    "\n",
    "merged_df = extract(grocery_sales, \"extra_data.parquet\")"
   ]
  },
  {
   "cell_type": "code",
   "execution_count": null,
   "metadata": {},
   "outputs": [],
   "source": [
    "def transform(merged_df):\n",
    "    merged_df.fillna(\n",
    "      {\n",
    "          'CPI': merged_df['CPI'].mean(),\n",
    "          'Weekly_Sales': merged_df['Weekly_Sales'].mean(),\n",
    "          'Unemployment': merged_df['Unemployment'].mean(),\n",
    "      }, inplace = True\n",
    "    )\n",
    "    clean_df = merged_df[merged_df['Weekly_Sales'] > 10000]\n",
    "    clean_df['Month'] = clean_df['Date'].dt.month\n",
    "    return clean_df.filter(items = ['Store_ID', \"Month\", \"Dept\", \"IsHoliday\", \n",
    "                                   \"Weekly_Sales\", \"CPI\", \"Unemployment\"])\n",
    "clean_data = transform(merged_df)\n",
    "print(clean_data.head(10))"
   ]
  },
  {
   "cell_type": "code",
   "execution_count": null,
   "metadata": {},
   "outputs": [],
   "source": [
    "def avg_monthly_sales(clean_data):\n",
    "    return (clean_data.groupby(\"Month\")\n",
    "    .agg(Avg_Sales = (\"Weekly_Sales\", \"mean\"))\n",
    "    .reset_index().round(2))\n",
    "agg_data = avg_monthly_sales(clean_data)"
   ]
  },
  {
   "cell_type": "code",
   "execution_count": null,
   "metadata": {},
   "outputs": [],
   "source": [
    "def load(agg_data, clean_data, agg_save_path, clean_save_path):\n",
    "    agg_data.to_csv(agg_save_path, index = False)\n",
    "    clean_data.to_csv(clean_save_path, index = False)\n",
    "load(agg_data, clean_data, \"agg_data.csv\", \"clean_data.csv\")"
   ]
  },
  {
   "cell_type": "code",
   "execution_count": null,
   "metadata": {},
   "outputs": [],
   "source": [
    "def validation(data_path):\n",
    "    if os.path.exists(data_path):\n",
    "        return(\"Agg data file is in the home directory\")\n",
    "    else:\n",
    "        return(\"Agg data does not exist\")\n",
    "validation(\"agg_data.csv\")\n",
    "validation(\"clean_data.csv\")"
   ]
  },
  {
   "cell_type": "code",
   "execution_count": null,
   "metadata": {},
   "outputs": [],
   "source": [
    "plt.figure(figsize=(10, 6))\n",
    "plt.plot(agg_data['Month'], agg_data['Avg_Sales'], marker='o', linestyle='-', color='#87CEEB')\n",
    "plt.axvline(x=9, color='red', linestyle='--', linewidth=1)\n",
    "plt.text(9.2, 38000, 'New Policy', rotation=0, color='black', fontsize=12)\n",
    "# Add titles and labels\n",
    "plt.title('Average Sales by Month')\n",
    "plt.xlabel('Month')\n",
    "plt.ylabel('Average Sales')\n",
    "\n",
    "# Rotate x-axis labels for better readability\n",
    "plt.xticks(rotation=45)\n",
    "\n",
    "# Display the chart\n",
    "plt.grid(False)\n",
    "plt.show()"
   ]
  },
  {
   "cell_type": "markdown",
   "metadata": {},
   "source": [
    "### Substantial growth in average sales after the introduction of a new policy and the advent of holidays"
   ]
  },
  {
   "cell_type": "code",
   "execution_count": null,
   "metadata": {},
   "outputs": [],
   "source": [
    "dept_data = (clean_data.\n",
    "             groupby(\"Dept\").\n",
    "             agg(Avg_Sales = (\"Weekly_Sales\", \"mean\")).\n",
    "             reset_index().\n",
    "             round(2))\n",
    "top_10 = dept_data.sort_values(ascending = False, by = \"Avg_Sales\").head(10)\n",
    "bottom_10 = dept_data.sort_values(ascending = True, by = \"Avg_Sales\").head(10)"
   ]
  },
  {
   "cell_type": "markdown",
   "metadata": {},
   "source": [
    "### Plotting top ten departments"
   ]
  },
  {
   "cell_type": "code",
   "execution_count": null,
   "metadata": {},
   "outputs": [],
   "source": [
    "# Plotting the bar plot\n",
    "plt.figure(figsize=(8, 6))\n",
    "top_10.plot(kind='bar', color='#87CEEB')\n",
    "\n",
    "\n",
    "\n",
    "# Add titles and labels\n",
    "plt.title('Top 10 Performing Departments by Total Sales')\n",
    "plt.xlabel('Department')\n",
    "plt.ylabel('Total Sales')\n",
    "\n",
    "# Rotate x-axis labels for better readability\n",
    "plt.xticks(rotation=45)\n",
    "\n",
    "# Display the plot\n",
    "plt.show()"
   ]
  },
  {
   "cell_type": "markdown",
   "metadata": {},
   "source": [
    "![alt text](../../../images/ETL_graph2.png)"
   ]
  },
  {
   "cell_type": "markdown",
   "metadata": {},
   "source": [
    "### Plotting Bottom 10 departments"
   ]
  },
  {
   "cell_type": "code",
   "execution_count": null,
   "metadata": {},
   "outputs": [],
   "source": [
    "# Plotting the bar plot\n",
    "plt.figure(figsize=(8, 6))\n",
    "top_10.plot(kind='bar', color='#87CEEB')\n",
    "\n",
    "\n",
    "\n",
    "# Add titles and labels\n",
    "plt.title('Top 10 Performing Departments by Total Sales')\n",
    "plt.xlabel('Department')\n",
    "plt.ylabel('Total Sales')\n",
    "\n",
    "# Rotate x-axis labels for better readability\n",
    "plt.xticks(rotation=45)\n",
    "\n",
    "# Display the plot\n",
    "plt.show()"
   ]
  },
  {
   "cell_type": "markdown",
   "metadata": {},
   "source": [
    "![alt text](../../../images/ETL_graph3.png)"
   ]
  }
 ],
 "metadata": {
  "language_info": {
   "name": "python"
  }
 },
 "nbformat": 4,
 "nbformat_minor": 2
}
