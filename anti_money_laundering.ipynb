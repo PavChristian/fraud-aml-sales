{
 "cells": [
  {
   "cell_type": "markdown",
   "metadata": {},
   "source": [
    "# Anti Money Laundering Analysis\n",
    "Dataset taken from [Kaggle](https://www.kaggle.com/datasets/ealtman2019/ibm-transactions-for-anti-money-laundering-aml?select=HI-Small_Trans.csv) and contains 5M records with a high volume of fraudulent activity"
   ]
  },
  {
   "cell_type": "code",
   "execution_count": 160,
   "metadata": {},
   "outputs": [],
   "source": [
    "import torch\n",
    "import pandas as pd\n",
    "import seaborn as sns\n",
    "import numpy as np \n",
    "import plotly.graph_objects as go\n",
    "import matplotlib.pyplot as plt\n",
    "import plotly.express as px\n",
    "from typing import Callable, Optional\n",
    "from sklearn import preprocessing\n",
    "from torch_geometric.data import (\n",
    "    Data,\n",
    "    InMemoryDataset\n",
    ")\n",
    "import torch_geometric.transforms as T\n",
    "from torch_geometric.loader import NeighborLoader"
   ]
  },
  {
   "cell_type": "code",
   "execution_count": 57,
   "metadata": {},
   "outputs": [],
   "source": [
    "df = pd.read_csv(\"/Users/pavemakouski/Documents/RP_records/Code/datasets/HI-Small_Trans.csv\")"
   ]
  },
  {
   "cell_type": "code",
   "execution_count": 58,
   "metadata": {},
   "outputs": [
    {
     "data": {
      "text/html": [
       "<div>\n",
       "<style scoped>\n",
       "    .dataframe tbody tr th:only-of-type {\n",
       "        vertical-align: middle;\n",
       "    }\n",
       "\n",
       "    .dataframe tbody tr th {\n",
       "        vertical-align: top;\n",
       "    }\n",
       "\n",
       "    .dataframe thead th {\n",
       "        text-align: right;\n",
       "    }\n",
       "</style>\n",
       "<table border=\"1\" class=\"dataframe\">\n",
       "  <thead>\n",
       "    <tr style=\"text-align: right;\">\n",
       "      <th></th>\n",
       "      <th>Timestamp</th>\n",
       "      <th>From Bank</th>\n",
       "      <th>Account</th>\n",
       "      <th>To Bank</th>\n",
       "      <th>Account.1</th>\n",
       "      <th>Amount Received</th>\n",
       "      <th>Receiving Currency</th>\n",
       "      <th>Amount Paid</th>\n",
       "      <th>Payment Currency</th>\n",
       "      <th>Payment Format</th>\n",
       "      <th>Is Laundering</th>\n",
       "    </tr>\n",
       "  </thead>\n",
       "  <tbody>\n",
       "    <tr>\n",
       "      <th>0</th>\n",
       "      <td>2022/09/01 00:20</td>\n",
       "      <td>10</td>\n",
       "      <td>8000EBD30</td>\n",
       "      <td>10</td>\n",
       "      <td>8000EBD30</td>\n",
       "      <td>3697.34</td>\n",
       "      <td>US Dollar</td>\n",
       "      <td>3697.34</td>\n",
       "      <td>US Dollar</td>\n",
       "      <td>Reinvestment</td>\n",
       "      <td>0</td>\n",
       "    </tr>\n",
       "    <tr>\n",
       "      <th>1</th>\n",
       "      <td>2022/09/01 00:20</td>\n",
       "      <td>3208</td>\n",
       "      <td>8000F4580</td>\n",
       "      <td>1</td>\n",
       "      <td>8000F5340</td>\n",
       "      <td>0.01</td>\n",
       "      <td>US Dollar</td>\n",
       "      <td>0.01</td>\n",
       "      <td>US Dollar</td>\n",
       "      <td>Cheque</td>\n",
       "      <td>0</td>\n",
       "    </tr>\n",
       "    <tr>\n",
       "      <th>2</th>\n",
       "      <td>2022/09/01 00:00</td>\n",
       "      <td>3209</td>\n",
       "      <td>8000F4670</td>\n",
       "      <td>3209</td>\n",
       "      <td>8000F4670</td>\n",
       "      <td>14675.57</td>\n",
       "      <td>US Dollar</td>\n",
       "      <td>14675.57</td>\n",
       "      <td>US Dollar</td>\n",
       "      <td>Reinvestment</td>\n",
       "      <td>0</td>\n",
       "    </tr>\n",
       "    <tr>\n",
       "      <th>3</th>\n",
       "      <td>2022/09/01 00:02</td>\n",
       "      <td>12</td>\n",
       "      <td>8000F5030</td>\n",
       "      <td>12</td>\n",
       "      <td>8000F5030</td>\n",
       "      <td>2806.97</td>\n",
       "      <td>US Dollar</td>\n",
       "      <td>2806.97</td>\n",
       "      <td>US Dollar</td>\n",
       "      <td>Reinvestment</td>\n",
       "      <td>0</td>\n",
       "    </tr>\n",
       "    <tr>\n",
       "      <th>4</th>\n",
       "      <td>2022/09/01 00:06</td>\n",
       "      <td>10</td>\n",
       "      <td>8000F5200</td>\n",
       "      <td>10</td>\n",
       "      <td>8000F5200</td>\n",
       "      <td>36682.97</td>\n",
       "      <td>US Dollar</td>\n",
       "      <td>36682.97</td>\n",
       "      <td>US Dollar</td>\n",
       "      <td>Reinvestment</td>\n",
       "      <td>0</td>\n",
       "    </tr>\n",
       "  </tbody>\n",
       "</table>\n",
       "</div>"
      ],
      "text/plain": [
       "          Timestamp  From Bank    Account  To Bank  Account.1  \\\n",
       "0  2022/09/01 00:20         10  8000EBD30       10  8000EBD30   \n",
       "1  2022/09/01 00:20       3208  8000F4580        1  8000F5340   \n",
       "2  2022/09/01 00:00       3209  8000F4670     3209  8000F4670   \n",
       "3  2022/09/01 00:02         12  8000F5030       12  8000F5030   \n",
       "4  2022/09/01 00:06         10  8000F5200       10  8000F5200   \n",
       "\n",
       "   Amount Received Receiving Currency  Amount Paid Payment Currency  \\\n",
       "0          3697.34          US Dollar      3697.34        US Dollar   \n",
       "1             0.01          US Dollar         0.01        US Dollar   \n",
       "2         14675.57          US Dollar     14675.57        US Dollar   \n",
       "3          2806.97          US Dollar      2806.97        US Dollar   \n",
       "4         36682.97          US Dollar     36682.97        US Dollar   \n",
       "\n",
       "  Payment Format  Is Laundering  \n",
       "0   Reinvestment              0  \n",
       "1         Cheque              0  \n",
       "2   Reinvestment              0  \n",
       "3   Reinvestment              0  \n",
       "4   Reinvestment              0  "
      ]
     },
     "execution_count": 58,
     "metadata": {},
     "output_type": "execute_result"
    }
   ],
   "source": [
    "df.head()"
   ]
  },
  {
   "cell_type": "code",
   "execution_count": 12,
   "metadata": {},
   "outputs": [
    {
     "name": "stdout",
     "output_type": "stream",
     "text": [
      "The number of sender is 30470, and the number of recepients is 15811\n",
      "30470\n"
     ]
    }
   ],
   "source": [
    "#Finding the number of banks (nodes)\n",
    "unique_to_banks = df['To Bank'].nunique()\n",
    "unique_from_banks = df['From Bank'].nunique()\n",
    "print(f\"The number of sender is {unique_from_banks}, and the number of recepient banks is {unique_to_banks}\")\n",
    "#Making sure we have all the banks (unique) in one list\n",
    "unique_banks = list(set(df['To Bank'].to_list() + df['From Bank'].to_list()))\n"
   ]
  },
  {
   "cell_type": "code",
   "execution_count": 16,
   "metadata": {},
   "outputs": [
    {
     "name": "stdout",
     "output_type": "stream",
     "text": [
      "515080\n"
     ]
    }
   ],
   "source": [
    "#Performing analagous operation for the individual accounts\n",
    "#Accounts will serve as nodes in our graph analysis\n",
    "unique_accounts = list(set(df['Account'].to_list() + df['Account.1'].to_list()))\n",
    "print(len(unique_accounts))"
   ]
  },
  {
   "cell_type": "code",
   "execution_count": 59,
   "metadata": {},
   "outputs": [
    {
     "name": "stdout",
     "output_type": "stream",
     "text": [
      "<class 'pandas.core.frame.DataFrame'>\n",
      "RangeIndex: 5078345 entries, 0 to 5078344\n",
      "Data columns (total 11 columns):\n",
      " #   Column              Dtype  \n",
      "---  ------              -----  \n",
      " 0   Timestamp           object \n",
      " 1   From Bank           int64  \n",
      " 2   Account             object \n",
      " 3   To Bank             int64  \n",
      " 4   Account.1           object \n",
      " 5   Amount Received     float64\n",
      " 6   Receiving Currency  object \n",
      " 7   Amount Paid         float64\n",
      " 8   Payment Currency    object \n",
      " 9   Payment Format      object \n",
      " 10  Is Laundering       int64  \n",
      "dtypes: float64(2), int64(3), object(6)\n",
      "memory usage: 426.2+ MB\n"
     ]
    }
   ],
   "source": [
    "df.info()"
   ]
  },
  {
   "cell_type": "code",
   "execution_count": 14,
   "metadata": {},
   "outputs": [
    {
     "data": {
      "text/plain": [
       "Timestamp             0\n",
       "From Bank             0\n",
       "Account               0\n",
       "To Bank               0\n",
       "Account.1             0\n",
       "Amount Received       0\n",
       "Receiving Currency    0\n",
       "Amount Paid           0\n",
       "Payment Currency      0\n",
       "Payment Format        0\n",
       "Is Laundering         0\n",
       "dtype: int64"
      ]
     },
     "execution_count": 14,
     "metadata": {},
     "output_type": "execute_result"
    }
   ],
   "source": [
    "df.apply(lambda x: x.isna().sum())"
   ]
  },
  {
   "cell_type": "code",
   "execution_count": 27,
   "metadata": {},
   "outputs": [
    {
     "data": {
      "application/vnd.plotly.v1+json": {
       "config": {
        "plotlyServerURL": "https://plot.ly"
       },
       "data": [
        {
         "alignmentgroup": "True",
         "hovertemplate": "Payment Format=%{x}<br>Number of Records=%{y}<extra></extra>",
         "legendgroup": "",
         "marker": {
          "color": "lightblue",
          "pattern": {
           "shape": ""
          }
         },
         "name": "",
         "offsetgroup": "",
         "orientation": "v",
         "showlegend": false,
         "textposition": "auto",
         "type": "bar",
         "x": [
          "Cheque",
          "Credit Card",
          "ACH",
          "Cash",
          "Reinvestment",
          "Wire",
          "Bitcoin"
         ],
         "xaxis": "x",
         "y": [
          1864331,
          1323324,
          600797,
          490891,
          481056,
          171855,
          146091
         ],
         "yaxis": "y"
        }
       ],
       "layout": {
        "barmode": "relative",
        "legend": {
         "tracegroupgap": 0
        },
        "template": {
         "data": {
          "bar": [
           {
            "error_x": {
             "color": "#2a3f5f"
            },
            "error_y": {
             "color": "#2a3f5f"
            },
            "marker": {
             "line": {
              "color": "#E5ECF6",
              "width": 0.5
             },
             "pattern": {
              "fillmode": "overlay",
              "size": 10,
              "solidity": 0.2
             }
            },
            "type": "bar"
           }
          ],
          "barpolar": [
           {
            "marker": {
             "line": {
              "color": "#E5ECF6",
              "width": 0.5
             },
             "pattern": {
              "fillmode": "overlay",
              "size": 10,
              "solidity": 0.2
             }
            },
            "type": "barpolar"
           }
          ],
          "carpet": [
           {
            "aaxis": {
             "endlinecolor": "#2a3f5f",
             "gridcolor": "white",
             "linecolor": "white",
             "minorgridcolor": "white",
             "startlinecolor": "#2a3f5f"
            },
            "baxis": {
             "endlinecolor": "#2a3f5f",
             "gridcolor": "white",
             "linecolor": "white",
             "minorgridcolor": "white",
             "startlinecolor": "#2a3f5f"
            },
            "type": "carpet"
           }
          ],
          "choropleth": [
           {
            "colorbar": {
             "outlinewidth": 0,
             "ticks": ""
            },
            "type": "choropleth"
           }
          ],
          "contour": [
           {
            "colorbar": {
             "outlinewidth": 0,
             "ticks": ""
            },
            "colorscale": [
             [
              0,
              "#0d0887"
             ],
             [
              0.1111111111111111,
              "#46039f"
             ],
             [
              0.2222222222222222,
              "#7201a8"
             ],
             [
              0.3333333333333333,
              "#9c179e"
             ],
             [
              0.4444444444444444,
              "#bd3786"
             ],
             [
              0.5555555555555556,
              "#d8576b"
             ],
             [
              0.6666666666666666,
              "#ed7953"
             ],
             [
              0.7777777777777778,
              "#fb9f3a"
             ],
             [
              0.8888888888888888,
              "#fdca26"
             ],
             [
              1,
              "#f0f921"
             ]
            ],
            "type": "contour"
           }
          ],
          "contourcarpet": [
           {
            "colorbar": {
             "outlinewidth": 0,
             "ticks": ""
            },
            "type": "contourcarpet"
           }
          ],
          "heatmap": [
           {
            "colorbar": {
             "outlinewidth": 0,
             "ticks": ""
            },
            "colorscale": [
             [
              0,
              "#0d0887"
             ],
             [
              0.1111111111111111,
              "#46039f"
             ],
             [
              0.2222222222222222,
              "#7201a8"
             ],
             [
              0.3333333333333333,
              "#9c179e"
             ],
             [
              0.4444444444444444,
              "#bd3786"
             ],
             [
              0.5555555555555556,
              "#d8576b"
             ],
             [
              0.6666666666666666,
              "#ed7953"
             ],
             [
              0.7777777777777778,
              "#fb9f3a"
             ],
             [
              0.8888888888888888,
              "#fdca26"
             ],
             [
              1,
              "#f0f921"
             ]
            ],
            "type": "heatmap"
           }
          ],
          "heatmapgl": [
           {
            "colorbar": {
             "outlinewidth": 0,
             "ticks": ""
            },
            "colorscale": [
             [
              0,
              "#0d0887"
             ],
             [
              0.1111111111111111,
              "#46039f"
             ],
             [
              0.2222222222222222,
              "#7201a8"
             ],
             [
              0.3333333333333333,
              "#9c179e"
             ],
             [
              0.4444444444444444,
              "#bd3786"
             ],
             [
              0.5555555555555556,
              "#d8576b"
             ],
             [
              0.6666666666666666,
              "#ed7953"
             ],
             [
              0.7777777777777778,
              "#fb9f3a"
             ],
             [
              0.8888888888888888,
              "#fdca26"
             ],
             [
              1,
              "#f0f921"
             ]
            ],
            "type": "heatmapgl"
           }
          ],
          "histogram": [
           {
            "marker": {
             "pattern": {
              "fillmode": "overlay",
              "size": 10,
              "solidity": 0.2
             }
            },
            "type": "histogram"
           }
          ],
          "histogram2d": [
           {
            "colorbar": {
             "outlinewidth": 0,
             "ticks": ""
            },
            "colorscale": [
             [
              0,
              "#0d0887"
             ],
             [
              0.1111111111111111,
              "#46039f"
             ],
             [
              0.2222222222222222,
              "#7201a8"
             ],
             [
              0.3333333333333333,
              "#9c179e"
             ],
             [
              0.4444444444444444,
              "#bd3786"
             ],
             [
              0.5555555555555556,
              "#d8576b"
             ],
             [
              0.6666666666666666,
              "#ed7953"
             ],
             [
              0.7777777777777778,
              "#fb9f3a"
             ],
             [
              0.8888888888888888,
              "#fdca26"
             ],
             [
              1,
              "#f0f921"
             ]
            ],
            "type": "histogram2d"
           }
          ],
          "histogram2dcontour": [
           {
            "colorbar": {
             "outlinewidth": 0,
             "ticks": ""
            },
            "colorscale": [
             [
              0,
              "#0d0887"
             ],
             [
              0.1111111111111111,
              "#46039f"
             ],
             [
              0.2222222222222222,
              "#7201a8"
             ],
             [
              0.3333333333333333,
              "#9c179e"
             ],
             [
              0.4444444444444444,
              "#bd3786"
             ],
             [
              0.5555555555555556,
              "#d8576b"
             ],
             [
              0.6666666666666666,
              "#ed7953"
             ],
             [
              0.7777777777777778,
              "#fb9f3a"
             ],
             [
              0.8888888888888888,
              "#fdca26"
             ],
             [
              1,
              "#f0f921"
             ]
            ],
            "type": "histogram2dcontour"
           }
          ],
          "mesh3d": [
           {
            "colorbar": {
             "outlinewidth": 0,
             "ticks": ""
            },
            "type": "mesh3d"
           }
          ],
          "parcoords": [
           {
            "line": {
             "colorbar": {
              "outlinewidth": 0,
              "ticks": ""
             }
            },
            "type": "parcoords"
           }
          ],
          "pie": [
           {
            "automargin": true,
            "type": "pie"
           }
          ],
          "scatter": [
           {
            "fillpattern": {
             "fillmode": "overlay",
             "size": 10,
             "solidity": 0.2
            },
            "type": "scatter"
           }
          ],
          "scatter3d": [
           {
            "line": {
             "colorbar": {
              "outlinewidth": 0,
              "ticks": ""
             }
            },
            "marker": {
             "colorbar": {
              "outlinewidth": 0,
              "ticks": ""
             }
            },
            "type": "scatter3d"
           }
          ],
          "scattercarpet": [
           {
            "marker": {
             "colorbar": {
              "outlinewidth": 0,
              "ticks": ""
             }
            },
            "type": "scattercarpet"
           }
          ],
          "scattergeo": [
           {
            "marker": {
             "colorbar": {
              "outlinewidth": 0,
              "ticks": ""
             }
            },
            "type": "scattergeo"
           }
          ],
          "scattergl": [
           {
            "marker": {
             "colorbar": {
              "outlinewidth": 0,
              "ticks": ""
             }
            },
            "type": "scattergl"
           }
          ],
          "scattermapbox": [
           {
            "marker": {
             "colorbar": {
              "outlinewidth": 0,
              "ticks": ""
             }
            },
            "type": "scattermapbox"
           }
          ],
          "scatterpolar": [
           {
            "marker": {
             "colorbar": {
              "outlinewidth": 0,
              "ticks": ""
             }
            },
            "type": "scatterpolar"
           }
          ],
          "scatterpolargl": [
           {
            "marker": {
             "colorbar": {
              "outlinewidth": 0,
              "ticks": ""
             }
            },
            "type": "scatterpolargl"
           }
          ],
          "scatterternary": [
           {
            "marker": {
             "colorbar": {
              "outlinewidth": 0,
              "ticks": ""
             }
            },
            "type": "scatterternary"
           }
          ],
          "surface": [
           {
            "colorbar": {
             "outlinewidth": 0,
             "ticks": ""
            },
            "colorscale": [
             [
              0,
              "#0d0887"
             ],
             [
              0.1111111111111111,
              "#46039f"
             ],
             [
              0.2222222222222222,
              "#7201a8"
             ],
             [
              0.3333333333333333,
              "#9c179e"
             ],
             [
              0.4444444444444444,
              "#bd3786"
             ],
             [
              0.5555555555555556,
              "#d8576b"
             ],
             [
              0.6666666666666666,
              "#ed7953"
             ],
             [
              0.7777777777777778,
              "#fb9f3a"
             ],
             [
              0.8888888888888888,
              "#fdca26"
             ],
             [
              1,
              "#f0f921"
             ]
            ],
            "type": "surface"
           }
          ],
          "table": [
           {
            "cells": {
             "fill": {
              "color": "#EBF0F8"
             },
             "line": {
              "color": "white"
             }
            },
            "header": {
             "fill": {
              "color": "#C8D4E3"
             },
             "line": {
              "color": "white"
             }
            },
            "type": "table"
           }
          ]
         },
         "layout": {
          "annotationdefaults": {
           "arrowcolor": "#2a3f5f",
           "arrowhead": 0,
           "arrowwidth": 1
          },
          "autotypenumbers": "strict",
          "coloraxis": {
           "colorbar": {
            "outlinewidth": 0,
            "ticks": ""
           }
          },
          "colorscale": {
           "diverging": [
            [
             0,
             "#8e0152"
            ],
            [
             0.1,
             "#c51b7d"
            ],
            [
             0.2,
             "#de77ae"
            ],
            [
             0.3,
             "#f1b6da"
            ],
            [
             0.4,
             "#fde0ef"
            ],
            [
             0.5,
             "#f7f7f7"
            ],
            [
             0.6,
             "#e6f5d0"
            ],
            [
             0.7,
             "#b8e186"
            ],
            [
             0.8,
             "#7fbc41"
            ],
            [
             0.9,
             "#4d9221"
            ],
            [
             1,
             "#276419"
            ]
           ],
           "sequential": [
            [
             0,
             "#0d0887"
            ],
            [
             0.1111111111111111,
             "#46039f"
            ],
            [
             0.2222222222222222,
             "#7201a8"
            ],
            [
             0.3333333333333333,
             "#9c179e"
            ],
            [
             0.4444444444444444,
             "#bd3786"
            ],
            [
             0.5555555555555556,
             "#d8576b"
            ],
            [
             0.6666666666666666,
             "#ed7953"
            ],
            [
             0.7777777777777778,
             "#fb9f3a"
            ],
            [
             0.8888888888888888,
             "#fdca26"
            ],
            [
             1,
             "#f0f921"
            ]
           ],
           "sequentialminus": [
            [
             0,
             "#0d0887"
            ],
            [
             0.1111111111111111,
             "#46039f"
            ],
            [
             0.2222222222222222,
             "#7201a8"
            ],
            [
             0.3333333333333333,
             "#9c179e"
            ],
            [
             0.4444444444444444,
             "#bd3786"
            ],
            [
             0.5555555555555556,
             "#d8576b"
            ],
            [
             0.6666666666666666,
             "#ed7953"
            ],
            [
             0.7777777777777778,
             "#fb9f3a"
            ],
            [
             0.8888888888888888,
             "#fdca26"
            ],
            [
             1,
             "#f0f921"
            ]
           ]
          },
          "colorway": [
           "#636efa",
           "#EF553B",
           "#00cc96",
           "#ab63fa",
           "#FFA15A",
           "#19d3f3",
           "#FF6692",
           "#B6E880",
           "#FF97FF",
           "#FECB52"
          ],
          "font": {
           "color": "#2a3f5f"
          },
          "geo": {
           "bgcolor": "white",
           "lakecolor": "white",
           "landcolor": "#E5ECF6",
           "showlakes": true,
           "showland": true,
           "subunitcolor": "white"
          },
          "hoverlabel": {
           "align": "left"
          },
          "hovermode": "closest",
          "mapbox": {
           "style": "light"
          },
          "paper_bgcolor": "white",
          "plot_bgcolor": "#E5ECF6",
          "polar": {
           "angularaxis": {
            "gridcolor": "white",
            "linecolor": "white",
            "ticks": ""
           },
           "bgcolor": "#E5ECF6",
           "radialaxis": {
            "gridcolor": "white",
            "linecolor": "white",
            "ticks": ""
           }
          },
          "scene": {
           "xaxis": {
            "backgroundcolor": "#E5ECF6",
            "gridcolor": "white",
            "gridwidth": 2,
            "linecolor": "white",
            "showbackground": true,
            "ticks": "",
            "zerolinecolor": "white"
           },
           "yaxis": {
            "backgroundcolor": "#E5ECF6",
            "gridcolor": "white",
            "gridwidth": 2,
            "linecolor": "white",
            "showbackground": true,
            "ticks": "",
            "zerolinecolor": "white"
           },
           "zaxis": {
            "backgroundcolor": "#E5ECF6",
            "gridcolor": "white",
            "gridwidth": 2,
            "linecolor": "white",
            "showbackground": true,
            "ticks": "",
            "zerolinecolor": "white"
           }
          },
          "shapedefaults": {
           "line": {
            "color": "#2a3f5f"
           }
          },
          "ternary": {
           "aaxis": {
            "gridcolor": "white",
            "linecolor": "white",
            "ticks": ""
           },
           "baxis": {
            "gridcolor": "white",
            "linecolor": "white",
            "ticks": ""
           },
           "bgcolor": "#E5ECF6",
           "caxis": {
            "gridcolor": "white",
            "linecolor": "white",
            "ticks": ""
           }
          },
          "title": {
           "x": 0.05
          },
          "xaxis": {
           "automargin": true,
           "gridcolor": "white",
           "linecolor": "white",
           "ticks": "",
           "title": {
            "standoff": 15
           },
           "zerolinecolor": "white",
           "zerolinewidth": 2
          },
          "yaxis": {
           "automargin": true,
           "gridcolor": "white",
           "linecolor": "white",
           "ticks": "",
           "title": {
            "standoff": 15
           },
           "zerolinecolor": "white",
           "zerolinewidth": 2
          }
         }
        },
        "title": {
         "text": "Number of Rows by Payment Format"
        },
        "xaxis": {
         "anchor": "y",
         "domain": [
          0,
          1
         ],
         "title": {
          "text": "Payment Format"
         }
        },
        "yaxis": {
         "anchor": "x",
         "domain": [
          0,
          1
         ],
         "title": {
          "text": "Number of Records"
         }
        }
       }
      }
     },
     "metadata": {},
     "output_type": "display_data"
    }
   ],
   "source": [
    "payment_format_counts = df['Payment Format'].value_counts().reset_index()\n",
    "\n",
    "payment_format_counts.columns = ['Payment Format', 'Number of Rows']\n",
    "\n",
    "# Plotting the bar chart using Plotly\n",
    "fig = px.bar(payment_format_counts, \n",
    "             x='Payment Format', \n",
    "             y='Number of Rows', \n",
    "             title='Number of Rows by Payment Format',\n",
    "             labels={'Number of Rows': 'Number of Records', 'Payment Format': 'Payment Format'},\n",
    "             color_discrete_sequence=['lightblue'])\n",
    "\n",
    "fig.show()"
   ]
  },
  {
   "cell_type": "code",
   "execution_count": 19,
   "metadata": {},
   "outputs": [
    {
     "name": "stdout",
     "output_type": "stream",
     "text": [
      "72158\n",
      "72170\n"
     ]
    }
   ],
   "source": [
    "#Checking if the amount received is equivalent to the amount paid \n",
    "filter_df = df[df['Amount Paid'] != df['Amount Received']]\n",
    "print(filter_df.shape[0])\n",
    "#This difference may be due to the currency and transaction fees between countries\n",
    "currency_df = df[df['Payment Currency'] != df['Receiving Currency']]\n",
    "print(currency_df.shape[0])"
   ]
  },
  {
   "cell_type": "code",
   "execution_count": 33,
   "metadata": {},
   "outputs": [
    {
     "data": {
      "text/plain": [
       "Is Laundering\n",
       "0    5073168\n",
       "1       5177\n",
       "Name: Timestamp, dtype: int64"
      ]
     },
     "execution_count": 33,
     "metadata": {},
     "output_type": "execute_result"
    }
   ],
   "source": [
    "#Looking at the proportion of target labels (money laundering) within the data\n",
    "\n",
    "df.groupby(\"Is Laundering\")['Timestamp'].count()\n",
    "\n",
    "#A very unbalanced sample"
   ]
  },
  {
   "cell_type": "markdown",
   "metadata": {},
   "source": [
    "## Feature Generation"
   ]
  },
  {
   "cell_type": "code",
   "execution_count": 60,
   "metadata": {},
   "outputs": [],
   "source": [
    "#Defining pre-processing functions\n",
    "from sklearn.preprocessing import LabelEncoder, MinMaxScaler\n",
    "\n",
    "\n",
    "#Convering string values into numberical representations for graph \n",
    "def encode_labels(df, columns):\n",
    "    le = LabelEncoder()  \n",
    "    for i in columns:                  \n",
    "        df[i] = le.fit_transform(df[i].astype(str))  \n",
    "    return df\n",
    "\n",
    "#Normalizing time (converting to time elapsed)\n",
    "\n",
    "def normal_time(df, time_column):\n",
    "    df[time_column] = pd.to_datetime(df[time_column])\n",
    "    df[time_column] = df[time_column].apply(lambda x: x.value)\n",
    "    scaler = MinMaxScaler()\n",
    "    df[time_column] = scaler.fit_transform(df[[time_column]])\n",
    "    return df\n",
    "\n",
    "#Creating unique account ids\n",
    "def unique_account(col1, col2):\n",
    "    return col1 + \"_\" + col2\n",
    "    \n",
    "    \n",
    "    \n",
    "def pre_process_df(df):\n",
    "    df = encode_labels(df, ['Receiving Currency', 'Payment Currency', 'Payment Format'])\n",
    "    df = normal_time(df, 'Timestamp')\n",
    "    df['account_id'] = df.apply(lambda row: unique_account(str(row['From Bank']), row['Account']), axis=1)\n",
    "    df['r_account_id'] = df.apply(lambda row: unique_account(str(row['To Bank']), row['Account.1']), axis=1)\n",
    "    df =df.sort_values(by = ['account_id'])\n",
    "    return df\n",
    "\n",
    "trans_df = pre_process_df(df)\n",
    "\n"
   ]
  },
  {
   "cell_type": "code",
   "execution_count": 66,
   "metadata": {},
   "outputs": [
    {
     "data": {
      "text/html": [
       "<div>\n",
       "<style scoped>\n",
       "    .dataframe tbody tr th:only-of-type {\n",
       "        vertical-align: middle;\n",
       "    }\n",
       "\n",
       "    .dataframe tbody tr th {\n",
       "        vertical-align: top;\n",
       "    }\n",
       "\n",
       "    .dataframe thead th {\n",
       "        text-align: right;\n",
       "    }\n",
       "</style>\n",
       "<table border=\"1\" class=\"dataframe\">\n",
       "  <thead>\n",
       "    <tr style=\"text-align: right;\">\n",
       "      <th></th>\n",
       "      <th>Timestamp</th>\n",
       "      <th>From Bank</th>\n",
       "      <th>Account</th>\n",
       "      <th>To Bank</th>\n",
       "      <th>Account.1</th>\n",
       "      <th>Amount Received</th>\n",
       "      <th>Receiving Currency</th>\n",
       "      <th>Amount Paid</th>\n",
       "      <th>Payment Currency</th>\n",
       "      <th>Payment Format</th>\n",
       "      <th>Is Laundering</th>\n",
       "      <th>account_id</th>\n",
       "      <th>r_account_id</th>\n",
       "    </tr>\n",
       "  </thead>\n",
       "  <tbody>\n",
       "    <tr>\n",
       "      <th>4278714</th>\n",
       "      <td>0.456320</td>\n",
       "      <td>10057</td>\n",
       "      <td>803A115E0</td>\n",
       "      <td>29467</td>\n",
       "      <td>803E020C0</td>\n",
       "      <td>787197.11</td>\n",
       "      <td>13</td>\n",
       "      <td>787197.11</td>\n",
       "      <td>13</td>\n",
       "      <td>3</td>\n",
       "      <td>0</td>\n",
       "      <td>10057_803A115E0</td>\n",
       "      <td>29467_803E020C0</td>\n",
       "    </tr>\n",
       "    <tr>\n",
       "      <th>2798190</th>\n",
       "      <td>0.285018</td>\n",
       "      <td>10057</td>\n",
       "      <td>803A115E0</td>\n",
       "      <td>29467</td>\n",
       "      <td>803E020C0</td>\n",
       "      <td>787197.11</td>\n",
       "      <td>13</td>\n",
       "      <td>787197.11</td>\n",
       "      <td>13</td>\n",
       "      <td>3</td>\n",
       "      <td>0</td>\n",
       "      <td>10057_803A115E0</td>\n",
       "      <td>29467_803E020C0</td>\n",
       "    </tr>\n",
       "    <tr>\n",
       "      <th>2798191</th>\n",
       "      <td>0.284233</td>\n",
       "      <td>10057</td>\n",
       "      <td>803A115E0</td>\n",
       "      <td>29467</td>\n",
       "      <td>803E020C0</td>\n",
       "      <td>681262.19</td>\n",
       "      <td>13</td>\n",
       "      <td>681262.19</td>\n",
       "      <td>13</td>\n",
       "      <td>4</td>\n",
       "      <td>0</td>\n",
       "      <td>10057_803A115E0</td>\n",
       "      <td>29467_803E020C0</td>\n",
       "    </tr>\n",
       "    <tr>\n",
       "      <th>3918769</th>\n",
       "      <td>0.417079</td>\n",
       "      <td>10057</td>\n",
       "      <td>803A115E0</td>\n",
       "      <td>29467</td>\n",
       "      <td>803E020C0</td>\n",
       "      <td>681262.19</td>\n",
       "      <td>13</td>\n",
       "      <td>681262.19</td>\n",
       "      <td>13</td>\n",
       "      <td>4</td>\n",
       "      <td>0</td>\n",
       "      <td>10057_803A115E0</td>\n",
       "      <td>29467_803E020C0</td>\n",
       "    </tr>\n",
       "    <tr>\n",
       "      <th>213094</th>\n",
       "      <td>0.000746</td>\n",
       "      <td>10057</td>\n",
       "      <td>803A115E0</td>\n",
       "      <td>10057</td>\n",
       "      <td>803A115E0</td>\n",
       "      <td>146954.27</td>\n",
       "      <td>13</td>\n",
       "      <td>146954.27</td>\n",
       "      <td>13</td>\n",
       "      <td>5</td>\n",
       "      <td>0</td>\n",
       "      <td>10057_803A115E0</td>\n",
       "      <td>10057_803A115E0</td>\n",
       "    </tr>\n",
       "    <tr>\n",
       "      <th>3918768</th>\n",
       "      <td>0.416608</td>\n",
       "      <td>10057</td>\n",
       "      <td>803A115E0</td>\n",
       "      <td>29467</td>\n",
       "      <td>803E020C0</td>\n",
       "      <td>787197.11</td>\n",
       "      <td>13</td>\n",
       "      <td>787197.11</td>\n",
       "      <td>13</td>\n",
       "      <td>3</td>\n",
       "      <td>0</td>\n",
       "      <td>10057_803A115E0</td>\n",
       "      <td>29467_803E020C0</td>\n",
       "    </tr>\n",
       "    <tr>\n",
       "      <th>3437163</th>\n",
       "      <td>0.360162</td>\n",
       "      <td>10057</td>\n",
       "      <td>803A115E0</td>\n",
       "      <td>29467</td>\n",
       "      <td>803E020C0</td>\n",
       "      <td>787197.11</td>\n",
       "      <td>13</td>\n",
       "      <td>787197.11</td>\n",
       "      <td>13</td>\n",
       "      <td>3</td>\n",
       "      <td>0</td>\n",
       "      <td>10057_803A115E0</td>\n",
       "      <td>29467_803E020C0</td>\n",
       "    </tr>\n",
       "    <tr>\n",
       "      <th>3437164</th>\n",
       "      <td>0.360083</td>\n",
       "      <td>10057</td>\n",
       "      <td>803A115E0</td>\n",
       "      <td>29467</td>\n",
       "      <td>803E020C0</td>\n",
       "      <td>681262.19</td>\n",
       "      <td>13</td>\n",
       "      <td>681262.19</td>\n",
       "      <td>13</td>\n",
       "      <td>4</td>\n",
       "      <td>0</td>\n",
       "      <td>10057_803A115E0</td>\n",
       "      <td>29467_803E020C0</td>\n",
       "    </tr>\n",
       "    <tr>\n",
       "      <th>2570346</th>\n",
       "      <td>0.259211</td>\n",
       "      <td>10057</td>\n",
       "      <td>803A115E0</td>\n",
       "      <td>29467</td>\n",
       "      <td>803E020C0</td>\n",
       "      <td>787197.11</td>\n",
       "      <td>13</td>\n",
       "      <td>787197.11</td>\n",
       "      <td>13</td>\n",
       "      <td>3</td>\n",
       "      <td>0</td>\n",
       "      <td>10057_803A115E0</td>\n",
       "      <td>29467_803E020C0</td>\n",
       "    </tr>\n",
       "    <tr>\n",
       "      <th>2570347</th>\n",
       "      <td>0.258976</td>\n",
       "      <td>10057</td>\n",
       "      <td>803A115E0</td>\n",
       "      <td>29467</td>\n",
       "      <td>803E020C0</td>\n",
       "      <td>681262.19</td>\n",
       "      <td>13</td>\n",
       "      <td>681262.19</td>\n",
       "      <td>13</td>\n",
       "      <td>4</td>\n",
       "      <td>0</td>\n",
       "      <td>10057_803A115E0</td>\n",
       "      <td>29467_803E020C0</td>\n",
       "    </tr>\n",
       "  </tbody>\n",
       "</table>\n",
       "</div>"
      ],
      "text/plain": [
       "         Timestamp  From Bank    Account  To Bank  Account.1  Amount Received  \\\n",
       "4278714   0.456320      10057  803A115E0    29467  803E020C0        787197.11   \n",
       "2798190   0.285018      10057  803A115E0    29467  803E020C0        787197.11   \n",
       "2798191   0.284233      10057  803A115E0    29467  803E020C0        681262.19   \n",
       "3918769   0.417079      10057  803A115E0    29467  803E020C0        681262.19   \n",
       "213094    0.000746      10057  803A115E0    10057  803A115E0        146954.27   \n",
       "3918768   0.416608      10057  803A115E0    29467  803E020C0        787197.11   \n",
       "3437163   0.360162      10057  803A115E0    29467  803E020C0        787197.11   \n",
       "3437164   0.360083      10057  803A115E0    29467  803E020C0        681262.19   \n",
       "2570346   0.259211      10057  803A115E0    29467  803E020C0        787197.11   \n",
       "2570347   0.258976      10057  803A115E0    29467  803E020C0        681262.19   \n",
       "\n",
       "         Receiving Currency  Amount Paid  Payment Currency  Payment Format  \\\n",
       "4278714                  13    787197.11                13               3   \n",
       "2798190                  13    787197.11                13               3   \n",
       "2798191                  13    681262.19                13               4   \n",
       "3918769                  13    681262.19                13               4   \n",
       "213094                   13    146954.27                13               5   \n",
       "3918768                  13    787197.11                13               3   \n",
       "3437163                  13    787197.11                13               3   \n",
       "3437164                  13    681262.19                13               4   \n",
       "2570346                  13    787197.11                13               3   \n",
       "2570347                  13    681262.19                13               4   \n",
       "\n",
       "         Is Laundering       account_id     r_account_id  \n",
       "4278714              0  10057_803A115E0  29467_803E020C0  \n",
       "2798190              0  10057_803A115E0  29467_803E020C0  \n",
       "2798191              0  10057_803A115E0  29467_803E020C0  \n",
       "3918769              0  10057_803A115E0  29467_803E020C0  \n",
       "213094               0  10057_803A115E0  10057_803A115E0  \n",
       "3918768              0  10057_803A115E0  29467_803E020C0  \n",
       "3437163              0  10057_803A115E0  29467_803E020C0  \n",
       "3437164              0  10057_803A115E0  29467_803E020C0  \n",
       "2570346              0  10057_803A115E0  29467_803E020C0  \n",
       "2570347              0  10057_803A115E0  29467_803E020C0  "
      ]
     },
     "execution_count": 66,
     "metadata": {},
     "output_type": "execute_result"
    }
   ],
   "source": [
    "trans_df.head(10)"
   ]
  },
  {
   "cell_type": "code",
   "execution_count": 65,
   "metadata": {},
   "outputs": [
    {
     "name": "stdout",
     "output_type": "stream",
     "text": [
      "Min: 0.0, Max: 1.0, Median: 0.25516537041380616\n"
     ]
    }
   ],
   "source": [
    "#Making sure the time variable has been transformed correctly \n",
    "\n",
    "min_value = trans_df['Timestamp'].min()\n",
    "max_value = trans_df['Timestamp'].max()\n",
    "median_value = trans_df['Timestamp'].median()\n",
    "\n",
    "print(f\"Min: {min_value}, Max: {max_value}, Median: {median_value}\")\n"
   ]
  },
  {
   "cell_type": "code",
   "execution_count": 90,
   "metadata": {},
   "outputs": [],
   "source": [
    "#Creating separate dataframes for senders and receivers\n",
    "sending_df = trans_df[['account_id', 'Payment Currency', 'Amount Paid', 'Payment Format']]\n",
    "receiving_df = trans_df[['r_account_id', 'Receiving Currency', 'Amount Received', 'Payment Format']].rename({\"r_account_id\": \"account_id\"}, axis = 1)"
   ]
  },
  {
   "cell_type": "code",
   "execution_count": 89,
   "metadata": {},
   "outputs": [
    {
     "data": {
      "text/html": [
       "<div>\n",
       "<style scoped>\n",
       "    .dataframe tbody tr th:only-of-type {\n",
       "        vertical-align: middle;\n",
       "    }\n",
       "\n",
       "    .dataframe tbody tr th {\n",
       "        vertical-align: top;\n",
       "    }\n",
       "\n",
       "    .dataframe thead th {\n",
       "        text-align: right;\n",
       "    }\n",
       "</style>\n",
       "<table border=\"1\" class=\"dataframe\">\n",
       "  <thead>\n",
       "    <tr style=\"text-align: right;\">\n",
       "      <th></th>\n",
       "      <th>account_id</th>\n",
       "      <th>Payment Currency</th>\n",
       "      <th>Amount Paid</th>\n",
       "      <th>Payment Format</th>\n",
       "    </tr>\n",
       "  </thead>\n",
       "  <tbody>\n",
       "    <tr>\n",
       "      <th>4278714</th>\n",
       "      <td>10057_803A115E0</td>\n",
       "      <td>13</td>\n",
       "      <td>787197.11</td>\n",
       "      <td>3</td>\n",
       "    </tr>\n",
       "    <tr>\n",
       "      <th>2798190</th>\n",
       "      <td>10057_803A115E0</td>\n",
       "      <td>13</td>\n",
       "      <td>787197.11</td>\n",
       "      <td>3</td>\n",
       "    </tr>\n",
       "    <tr>\n",
       "      <th>2798191</th>\n",
       "      <td>10057_803A115E0</td>\n",
       "      <td>13</td>\n",
       "      <td>681262.19</td>\n",
       "      <td>4</td>\n",
       "    </tr>\n",
       "    <tr>\n",
       "      <th>3918769</th>\n",
       "      <td>10057_803A115E0</td>\n",
       "      <td>13</td>\n",
       "      <td>681262.19</td>\n",
       "      <td>4</td>\n",
       "    </tr>\n",
       "    <tr>\n",
       "      <th>213094</th>\n",
       "      <td>10057_803A115E0</td>\n",
       "      <td>13</td>\n",
       "      <td>146954.27</td>\n",
       "      <td>5</td>\n",
       "    </tr>\n",
       "  </tbody>\n",
       "</table>\n",
       "</div>"
      ],
      "text/plain": [
       "              account_id  Payment Currency  Amount Paid  Payment Format\n",
       "4278714  10057_803A115E0                13    787197.11               3\n",
       "2798190  10057_803A115E0                13    787197.11               3\n",
       "2798191  10057_803A115E0                13    681262.19               4\n",
       "3918769  10057_803A115E0                13    681262.19               4\n",
       "213094   10057_803A115E0                13    146954.27               5"
      ]
     },
     "execution_count": 89,
     "metadata": {},
     "output_type": "execute_result"
    }
   ],
   "source": [
    "sending_df.head()"
   ]
  },
  {
   "cell_type": "code",
   "execution_count": 91,
   "metadata": {},
   "outputs": [
    {
     "data": {
      "text/html": [
       "<div>\n",
       "<style scoped>\n",
       "    .dataframe tbody tr th:only-of-type {\n",
       "        vertical-align: middle;\n",
       "    }\n",
       "\n",
       "    .dataframe tbody tr th {\n",
       "        vertical-align: top;\n",
       "    }\n",
       "\n",
       "    .dataframe thead th {\n",
       "        text-align: right;\n",
       "    }\n",
       "</style>\n",
       "<table border=\"1\" class=\"dataframe\">\n",
       "  <thead>\n",
       "    <tr style=\"text-align: right;\">\n",
       "      <th></th>\n",
       "      <th>account_id</th>\n",
       "      <th>Receiving Currency</th>\n",
       "      <th>Amount Received</th>\n",
       "      <th>Payment Format</th>\n",
       "    </tr>\n",
       "  </thead>\n",
       "  <tbody>\n",
       "    <tr>\n",
       "      <th>4278714</th>\n",
       "      <td>29467_803E020C0</td>\n",
       "      <td>13</td>\n",
       "      <td>787197.11</td>\n",
       "      <td>3</td>\n",
       "    </tr>\n",
       "    <tr>\n",
       "      <th>2798190</th>\n",
       "      <td>29467_803E020C0</td>\n",
       "      <td>13</td>\n",
       "      <td>787197.11</td>\n",
       "      <td>3</td>\n",
       "    </tr>\n",
       "    <tr>\n",
       "      <th>2798191</th>\n",
       "      <td>29467_803E020C0</td>\n",
       "      <td>13</td>\n",
       "      <td>681262.19</td>\n",
       "      <td>4</td>\n",
       "    </tr>\n",
       "    <tr>\n",
       "      <th>3918769</th>\n",
       "      <td>29467_803E020C0</td>\n",
       "      <td>13</td>\n",
       "      <td>681262.19</td>\n",
       "      <td>4</td>\n",
       "    </tr>\n",
       "    <tr>\n",
       "      <th>213094</th>\n",
       "      <td>10057_803A115E0</td>\n",
       "      <td>13</td>\n",
       "      <td>146954.27</td>\n",
       "      <td>5</td>\n",
       "    </tr>\n",
       "  </tbody>\n",
       "</table>\n",
       "</div>"
      ],
      "text/plain": [
       "              account_id  Receiving Currency  Amount Received  Payment Format\n",
       "4278714  29467_803E020C0                  13        787197.11               3\n",
       "2798190  29467_803E020C0                  13        787197.11               3\n",
       "2798191  29467_803E020C0                  13        681262.19               4\n",
       "3918769  29467_803E020C0                  13        681262.19               4\n",
       "213094   10057_803A115E0                  13        146954.27               5"
      ]
     },
     "execution_count": 91,
     "metadata": {},
     "output_type": "execute_result"
    }
   ],
   "source": [
    "receiving_df.head()"
   ]
  },
  {
   "cell_type": "code",
   "execution_count": 76,
   "metadata": {},
   "outputs": [
    {
     "name": "stdout",
     "output_type": "stream",
     "text": [
      "[13  1 11  0  2 10  4 12  9 14  7  6  5  8  3]\n",
      "[13  1 11  0  2 10  4 12  9 14  7  6  5  8  3]\n"
     ]
    }
   ],
   "source": [
    "#Checking that currency labelling was sucessful \n",
    "\n",
    "print(receiving_df['Receiving Currency'].unique())\n",
    "print(sending_df['Payment Currency'].unique())"
   ]
  },
  {
   "cell_type": "markdown",
   "metadata": {},
   "source": [
    "## Creating node features"
   ]
  },
  {
   "cell_type": "code",
   "execution_count": 123,
   "metadata": {},
   "outputs": [
    {
     "data": {
      "text/html": [
       "<div>\n",
       "<style scoped>\n",
       "    .dataframe tbody tr th:only-of-type {\n",
       "        vertical-align: middle;\n",
       "    }\n",
       "\n",
       "    .dataframe tbody tr th {\n",
       "        vertical-align: top;\n",
       "    }\n",
       "\n",
       "    .dataframe thead th {\n",
       "        text-align: right;\n",
       "    }\n",
       "</style>\n",
       "<table border=\"1\" class=\"dataframe\">\n",
       "  <thead>\n",
       "    <tr style=\"text-align: right;\">\n",
       "      <th></th>\n",
       "      <th>index</th>\n",
       "      <th>account_id</th>\n",
       "      <th>Is Laundering</th>\n",
       "    </tr>\n",
       "  </thead>\n",
       "  <tbody>\n",
       "    <tr>\n",
       "      <th>0</th>\n",
       "      <td>158868</td>\n",
       "      <td>10057_801FB1090</td>\n",
       "      <td>0</td>\n",
       "    </tr>\n",
       "    <tr>\n",
       "      <th>1</th>\n",
       "      <td>50742</td>\n",
       "      <td>10057_803A115E0</td>\n",
       "      <td>0</td>\n",
       "    </tr>\n",
       "    <tr>\n",
       "      <th>2</th>\n",
       "      <td>312916</td>\n",
       "      <td>10057_803AA8E90</td>\n",
       "      <td>0</td>\n",
       "    </tr>\n",
       "    <tr>\n",
       "      <th>3</th>\n",
       "      <td>62957</td>\n",
       "      <td>10057_803AAB430</td>\n",
       "      <td>0</td>\n",
       "    </tr>\n",
       "    <tr>\n",
       "      <th>4</th>\n",
       "      <td>409251</td>\n",
       "      <td>10057_803AACE20</td>\n",
       "      <td>0</td>\n",
       "    </tr>\n",
       "  </tbody>\n",
       "</table>\n",
       "</div>"
      ],
      "text/plain": [
       "    index       account_id  Is Laundering\n",
       "0  158868  10057_801FB1090              0\n",
       "1   50742  10057_803A115E0              0\n",
       "2  312916  10057_803AA8E90              0\n",
       "3   62957  10057_803AAB430              0\n",
       "4  409251  10057_803AACE20              0"
      ]
     },
     "execution_count": 123,
     "metadata": {},
     "output_type": "execute_result"
    }
   ],
   "source": [
    "#Creating a basic list of nodes\n",
    "def get_node_df(df):\n",
    "        #Clean accounts first\n",
    "        clean_df = df[df['Is Laundering'] == 0]\n",
    "        clean_accounts = list(set(clean_df['account_id'].to_list() + clean_df['r_account_id'].to_list()))\n",
    "        clean_nodes_df = pd.DataFrame({'account_id': clean_accounts, 'Is Laundering': 0})\n",
    "        \n",
    "        #Dirty accounts\n",
    "        dirty_df = df[df['Is Laundering'] == 1]\n",
    "        dirty_accounts = list(set(dirty_df['account_id'].to_list() + dirty_df['r_account_id'].to_list()))\n",
    "        dirty_nodes_df =  pd.DataFrame({'account_id': dirty_accounts, 'Is Laundering': 1})\n",
    "        \n",
    "        combined_df = pd.concat([clean_nodes_df, dirty_nodes_df])\n",
    "        nodes_df = combined_df.drop_duplicates(subset='account_id', keep='last')\n",
    "        nodes_df = nodes_df.sort_values(by = ['account_id']).reset_index()\n",
    "        return nodes_df\n",
    "\n",
    "\n",
    "node_df = get_node_df(trans_df)\n",
    "node_df.head()"
   ]
  },
  {
   "cell_type": "code",
   "execution_count": 145,
   "metadata": {},
   "outputs": [
    {
     "data": {
      "text/html": [
       "<div>\n",
       "<style scoped>\n",
       "    .dataframe tbody tr th:only-of-type {\n",
       "        vertical-align: middle;\n",
       "    }\n",
       "\n",
       "    .dataframe tbody tr th {\n",
       "        vertical-align: top;\n",
       "    }\n",
       "\n",
       "    .dataframe thead th {\n",
       "        text-align: right;\n",
       "    }\n",
       "</style>\n",
       "<table border=\"1\" class=\"dataframe\">\n",
       "  <thead>\n",
       "    <tr style=\"text-align: right;\">\n",
       "      <th></th>\n",
       "      <th>index</th>\n",
       "      <th>account_id</th>\n",
       "      <th>Is Laundering</th>\n",
       "      <th>avg_0_Payment</th>\n",
       "      <th>avg_1_Payment</th>\n",
       "      <th>avg_2_Payment</th>\n",
       "      <th>avg_3_Payment</th>\n",
       "      <th>avg_4_Payment</th>\n",
       "      <th>avg_5_Payment</th>\n",
       "      <th>avg_6_Payment</th>\n",
       "      <th>...</th>\n",
       "      <th>avg_13_Receiving</th>\n",
       "      <th>avg_14_Receiving</th>\n",
       "      <th>Receiving_currency_top</th>\n",
       "      <th>Receiving_0</th>\n",
       "      <th>Receiving_1</th>\n",
       "      <th>Receiving_2</th>\n",
       "      <th>Receiving_3</th>\n",
       "      <th>Receiving_4</th>\n",
       "      <th>Receiving_5</th>\n",
       "      <th>Receiving_6</th>\n",
       "    </tr>\n",
       "  </thead>\n",
       "  <tbody>\n",
       "    <tr>\n",
       "      <th>0</th>\n",
       "      <td>158868</td>\n",
       "      <td>10057_801FB1090</td>\n",
       "      <td>0</td>\n",
       "      <td>0.0</td>\n",
       "      <td>0.0</td>\n",
       "      <td>0.0</td>\n",
       "      <td>0.0</td>\n",
       "      <td>0.0</td>\n",
       "      <td>0.0</td>\n",
       "      <td>0.0</td>\n",
       "      <td>...</td>\n",
       "      <td>1.000000e-02</td>\n",
       "      <td>0.0</td>\n",
       "      <td>13.0</td>\n",
       "      <td>0.0</td>\n",
       "      <td>0.0</td>\n",
       "      <td>0.0</td>\n",
       "      <td>1.0</td>\n",
       "      <td>0.0</td>\n",
       "      <td>0.0</td>\n",
       "      <td>0.0</td>\n",
       "    </tr>\n",
       "    <tr>\n",
       "      <th>1</th>\n",
       "      <td>50742</td>\n",
       "      <td>10057_803A115E0</td>\n",
       "      <td>0</td>\n",
       "      <td>0.0</td>\n",
       "      <td>0.0</td>\n",
       "      <td>0.0</td>\n",
       "      <td>0.0</td>\n",
       "      <td>0.0</td>\n",
       "      <td>0.0</td>\n",
       "      <td>0.0</td>\n",
       "      <td>...</td>\n",
       "      <td>1.469543e+05</td>\n",
       "      <td>0.0</td>\n",
       "      <td>13.0</td>\n",
       "      <td>0.0</td>\n",
       "      <td>0.0</td>\n",
       "      <td>0.0</td>\n",
       "      <td>0.0</td>\n",
       "      <td>0.0</td>\n",
       "      <td>1.0</td>\n",
       "      <td>0.0</td>\n",
       "    </tr>\n",
       "    <tr>\n",
       "      <th>2</th>\n",
       "      <td>312916</td>\n",
       "      <td>10057_803AA8E90</td>\n",
       "      <td>0</td>\n",
       "      <td>0.0</td>\n",
       "      <td>0.0</td>\n",
       "      <td>0.0</td>\n",
       "      <td>0.0</td>\n",
       "      <td>0.0</td>\n",
       "      <td>0.0</td>\n",
       "      <td>0.0</td>\n",
       "      <td>...</td>\n",
       "      <td>1.590448e+06</td>\n",
       "      <td>0.0</td>\n",
       "      <td>13.0</td>\n",
       "      <td>0.0</td>\n",
       "      <td>0.0</td>\n",
       "      <td>0.0</td>\n",
       "      <td>17.0</td>\n",
       "      <td>7.0</td>\n",
       "      <td>0.0</td>\n",
       "      <td>0.0</td>\n",
       "    </tr>\n",
       "    <tr>\n",
       "      <th>3</th>\n",
       "      <td>62957</td>\n",
       "      <td>10057_803AAB430</td>\n",
       "      <td>0</td>\n",
       "      <td>0.0</td>\n",
       "      <td>0.0</td>\n",
       "      <td>0.0</td>\n",
       "      <td>0.0</td>\n",
       "      <td>0.0</td>\n",
       "      <td>0.0</td>\n",
       "      <td>0.0</td>\n",
       "      <td>...</td>\n",
       "      <td>7.915011e+04</td>\n",
       "      <td>0.0</td>\n",
       "      <td>13.0</td>\n",
       "      <td>0.0</td>\n",
       "      <td>0.0</td>\n",
       "      <td>7.0</td>\n",
       "      <td>8.0</td>\n",
       "      <td>0.0</td>\n",
       "      <td>1.0</td>\n",
       "      <td>0.0</td>\n",
       "    </tr>\n",
       "    <tr>\n",
       "      <th>4</th>\n",
       "      <td>409251</td>\n",
       "      <td>10057_803AACE20</td>\n",
       "      <td>0</td>\n",
       "      <td>0.0</td>\n",
       "      <td>0.0</td>\n",
       "      <td>0.0</td>\n",
       "      <td>0.0</td>\n",
       "      <td>0.0</td>\n",
       "      <td>0.0</td>\n",
       "      <td>0.0</td>\n",
       "      <td>...</td>\n",
       "      <td>3.038217e+06</td>\n",
       "      <td>0.0</td>\n",
       "      <td>13.0</td>\n",
       "      <td>0.0</td>\n",
       "      <td>0.0</td>\n",
       "      <td>0.0</td>\n",
       "      <td>8.0</td>\n",
       "      <td>8.0</td>\n",
       "      <td>2.0</td>\n",
       "      <td>0.0</td>\n",
       "    </tr>\n",
       "    <tr>\n",
       "      <th>5</th>\n",
       "      <td>25486</td>\n",
       "      <td>10057_803AB4F70</td>\n",
       "      <td>0</td>\n",
       "      <td>0.0</td>\n",
       "      <td>0.0</td>\n",
       "      <td>0.0</td>\n",
       "      <td>0.0</td>\n",
       "      <td>0.0</td>\n",
       "      <td>0.0</td>\n",
       "      <td>0.0</td>\n",
       "      <td>...</td>\n",
       "      <td>8.291626e+05</td>\n",
       "      <td>0.0</td>\n",
       "      <td>13.0</td>\n",
       "      <td>0.0</td>\n",
       "      <td>0.0</td>\n",
       "      <td>0.0</td>\n",
       "      <td>8.0</td>\n",
       "      <td>2.0</td>\n",
       "      <td>1.0</td>\n",
       "      <td>0.0</td>\n",
       "    </tr>\n",
       "    <tr>\n",
       "      <th>6</th>\n",
       "      <td>38325</td>\n",
       "      <td>10057_803AB6210</td>\n",
       "      <td>0</td>\n",
       "      <td>0.0</td>\n",
       "      <td>0.0</td>\n",
       "      <td>0.0</td>\n",
       "      <td>0.0</td>\n",
       "      <td>0.0</td>\n",
       "      <td>0.0</td>\n",
       "      <td>0.0</td>\n",
       "      <td>...</td>\n",
       "      <td>4.543643e+04</td>\n",
       "      <td>0.0</td>\n",
       "      <td>13.0</td>\n",
       "      <td>0.0</td>\n",
       "      <td>0.0</td>\n",
       "      <td>0.0</td>\n",
       "      <td>1.0</td>\n",
       "      <td>0.0</td>\n",
       "      <td>2.0</td>\n",
       "      <td>0.0</td>\n",
       "    </tr>\n",
       "    <tr>\n",
       "      <th>7</th>\n",
       "      <td>236809</td>\n",
       "      <td>10057_803AB6EC0</td>\n",
       "      <td>0</td>\n",
       "      <td>0.0</td>\n",
       "      <td>0.0</td>\n",
       "      <td>0.0</td>\n",
       "      <td>0.0</td>\n",
       "      <td>0.0</td>\n",
       "      <td>0.0</td>\n",
       "      <td>0.0</td>\n",
       "      <td>...</td>\n",
       "      <td>7.665845e+06</td>\n",
       "      <td>0.0</td>\n",
       "      <td>13.0</td>\n",
       "      <td>0.0</td>\n",
       "      <td>0.0</td>\n",
       "      <td>0.0</td>\n",
       "      <td>3.0</td>\n",
       "      <td>5.0</td>\n",
       "      <td>2.0</td>\n",
       "      <td>0.0</td>\n",
       "    </tr>\n",
       "    <tr>\n",
       "      <th>8</th>\n",
       "      <td>256244</td>\n",
       "      <td>10057_803AB8EB0</td>\n",
       "      <td>0</td>\n",
       "      <td>0.0</td>\n",
       "      <td>0.0</td>\n",
       "      <td>0.0</td>\n",
       "      <td>0.0</td>\n",
       "      <td>0.0</td>\n",
       "      <td>0.0</td>\n",
       "      <td>0.0</td>\n",
       "      <td>...</td>\n",
       "      <td>2.878108e+04</td>\n",
       "      <td>0.0</td>\n",
       "      <td>13.0</td>\n",
       "      <td>0.0</td>\n",
       "      <td>0.0</td>\n",
       "      <td>12.0</td>\n",
       "      <td>12.0</td>\n",
       "      <td>10.0</td>\n",
       "      <td>0.0</td>\n",
       "      <td>0.0</td>\n",
       "    </tr>\n",
       "    <tr>\n",
       "      <th>9</th>\n",
       "      <td>90479</td>\n",
       "      <td>10057_803AB8F00</td>\n",
       "      <td>0</td>\n",
       "      <td>0.0</td>\n",
       "      <td>0.0</td>\n",
       "      <td>0.0</td>\n",
       "      <td>0.0</td>\n",
       "      <td>0.0</td>\n",
       "      <td>0.0</td>\n",
       "      <td>0.0</td>\n",
       "      <td>...</td>\n",
       "      <td>9.727710e+08</td>\n",
       "      <td>0.0</td>\n",
       "      <td>13.0</td>\n",
       "      <td>2.0</td>\n",
       "      <td>0.0</td>\n",
       "      <td>9.0</td>\n",
       "      <td>9.0</td>\n",
       "      <td>2.0</td>\n",
       "      <td>2.0</td>\n",
       "      <td>2.0</td>\n",
       "    </tr>\n",
       "  </tbody>\n",
       "</table>\n",
       "<p>10 rows × 49 columns</p>\n",
       "</div>"
      ],
      "text/plain": [
       "    index       account_id  Is Laundering  avg_0_Payment  avg_1_Payment  \\\n",
       "0  158868  10057_801FB1090              0            0.0            0.0   \n",
       "1   50742  10057_803A115E0              0            0.0            0.0   \n",
       "2  312916  10057_803AA8E90              0            0.0            0.0   \n",
       "3   62957  10057_803AAB430              0            0.0            0.0   \n",
       "4  409251  10057_803AACE20              0            0.0            0.0   \n",
       "5   25486  10057_803AB4F70              0            0.0            0.0   \n",
       "6   38325  10057_803AB6210              0            0.0            0.0   \n",
       "7  236809  10057_803AB6EC0              0            0.0            0.0   \n",
       "8  256244  10057_803AB8EB0              0            0.0            0.0   \n",
       "9   90479  10057_803AB8F00              0            0.0            0.0   \n",
       "\n",
       "   avg_2_Payment  avg_3_Payment  avg_4_Payment  avg_5_Payment  avg_6_Payment  \\\n",
       "0            0.0            0.0            0.0            0.0            0.0   \n",
       "1            0.0            0.0            0.0            0.0            0.0   \n",
       "2            0.0            0.0            0.0            0.0            0.0   \n",
       "3            0.0            0.0            0.0            0.0            0.0   \n",
       "4            0.0            0.0            0.0            0.0            0.0   \n",
       "5            0.0            0.0            0.0            0.0            0.0   \n",
       "6            0.0            0.0            0.0            0.0            0.0   \n",
       "7            0.0            0.0            0.0            0.0            0.0   \n",
       "8            0.0            0.0            0.0            0.0            0.0   \n",
       "9            0.0            0.0            0.0            0.0            0.0   \n",
       "\n",
       "   ...  avg_13_Receiving  avg_14_Receiving  Receiving_currency_top  \\\n",
       "0  ...      1.000000e-02               0.0                    13.0   \n",
       "1  ...      1.469543e+05               0.0                    13.0   \n",
       "2  ...      1.590448e+06               0.0                    13.0   \n",
       "3  ...      7.915011e+04               0.0                    13.0   \n",
       "4  ...      3.038217e+06               0.0                    13.0   \n",
       "5  ...      8.291626e+05               0.0                    13.0   \n",
       "6  ...      4.543643e+04               0.0                    13.0   \n",
       "7  ...      7.665845e+06               0.0                    13.0   \n",
       "8  ...      2.878108e+04               0.0                    13.0   \n",
       "9  ...      9.727710e+08               0.0                    13.0   \n",
       "\n",
       "   Receiving_0  Receiving_1  Receiving_2  Receiving_3  Receiving_4  \\\n",
       "0          0.0          0.0          0.0          1.0          0.0   \n",
       "1          0.0          0.0          0.0          0.0          0.0   \n",
       "2          0.0          0.0          0.0         17.0          7.0   \n",
       "3          0.0          0.0          7.0          8.0          0.0   \n",
       "4          0.0          0.0          0.0          8.0          8.0   \n",
       "5          0.0          0.0          0.0          8.0          2.0   \n",
       "6          0.0          0.0          0.0          1.0          0.0   \n",
       "7          0.0          0.0          0.0          3.0          5.0   \n",
       "8          0.0          0.0         12.0         12.0         10.0   \n",
       "9          2.0          0.0          9.0          9.0          2.0   \n",
       "\n",
       "   Receiving_5  Receiving_6  \n",
       "0          0.0          0.0  \n",
       "1          1.0          0.0  \n",
       "2          0.0          0.0  \n",
       "3          1.0          0.0  \n",
       "4          2.0          0.0  \n",
       "5          1.0          0.0  \n",
       "6          2.0          0.0  \n",
       "7          2.0          0.0  \n",
       "8          0.0          0.0  \n",
       "9          2.0          2.0  \n",
       "\n",
       "[10 rows x 49 columns]"
      ]
     },
     "execution_count": 145,
     "metadata": {},
     "output_type": "execute_result"
    }
   ],
   "source": [
    "#Generating additional node features \n",
    "# - most used payment currency\n",
    "# - frequency of using different payment methods (payment and receiving)\n",
    "# - average amount sent in each currency\n",
    "# - most used receiving currency \n",
    "# - average amount received in each currency \n",
    "\n",
    "\n",
    "def generate_features(mini_df, node_df, column_name):\n",
    "    '''\n",
    "    mini_df -- refers to a pd.df object containing either payment or receiving account data \n",
    "    node_df -- refers to a pd.df object with a list of all accounts and their status (whether or not they have been involved in laundering)\n",
    "    column_name (str) -- either 'Payment' or 'Receiving' to indicate which dataframe you are drawing data from\n",
    "    '''\n",
    "    #I checked that each df contains all currencies\n",
    "    if column_name == \"Payment\":\n",
    "        group_column = 'Amount Paid'\n",
    "    elif column_name == \"Receiving\":\n",
    "        group_column = 'Amount Received'\n",
    "    else:\n",
    "        return \"You are entering an invalid column name\"\n",
    "        \n",
    "    currency_list = mini_df[f'{column_name} Currency'].unique()\n",
    "    currency_list = sorted([int(x) for x in currency_list])\n",
    "    #Getting data on payment methods\n",
    "    pm_df = (mini_df.groupby(['account_id', 'Payment Format'])['account_id']\n",
    "             .count()\n",
    "             .reset_index(name = 'format_count')\n",
    "             .pivot(index = \"account_id\", columns = 'Payment Format', values = 'format_count')\n",
    "             .reset_index()\n",
    "             .fillna(0))\n",
    "    #Renaming the columns \n",
    "    pm_df.columns = [f'{column_name}_{col}' if i != 0 else col for i, col in enumerate(pm_df.columns)]\n",
    "    #Calculating average amount for each currency and  number of transactions in each\n",
    "    pf_df = (mini_df.groupby(['account_id', f'{column_name} Currency'])['Payment Format']\n",
    "    .count()\n",
    "    .reset_index(name = f'currency_count'))\n",
    "    pf_df = pf_df.sort_values(by = [f'currency_count'], ascending = False)\n",
    "    #NAs in top df occur if an account was not used for payment or did not receive any money\n",
    "    top_df = pf_df.loc[pf_df.groupby('account_id')[f'currency_count'].idxmax()].reset_index(drop=True)\n",
    "    top_df = (top_df[['account_id', f'{column_name} Currency']].\n",
    "        rename({f'{column_name} Currency': f\"{column_name}_currency_top\"}, axis =1))\n",
    "    #Manipulating currencies\n",
    "    for currency in currency_list:\n",
    "        currency_df = mini_df[mini_df[f\"{column_name} Currency\"] == currency]\n",
    "        currency_df = currency_df[['account_id', group_column]].groupby('account_id').mean(group_column)\n",
    "        node_df = node_df.merge(currency_df, how='left', on = 'account_id')\n",
    "        node_df.rename(columns = {node_df.columns[-1]: f'avg_{currency}_{column_name}'}, inplace = True)\n",
    "    node_df = node_df.fillna(0)\n",
    "    node_df = node_df.merge(top_df, how = \"left\", on = \"account_id\")\n",
    "    node_df = node_df.merge(pm_df, how = \"left\", on = \"account_id\")\n",
    "    return node_df\n",
    "\n",
    "\n",
    "payment_df = generate_features(sending_df, node_df, 'Payment')\n",
    "received_df = generate_features(receiving_df, node_df, 'Receiving').drop(columns = ['Is Laundering', 'index'])\n",
    "#Putting all the features together into one dataframe\n",
    "full_df = payment_df.merge(received_df, how = \"left\", on = 'account_id')\n",
    "full_df.head(10)\n"
   ]
  },
  {
   "cell_type": "code",
   "execution_count": 150,
   "metadata": {},
   "outputs": [
    {
     "name": "stdout",
     "output_type": "stream",
     "text": [
      "         index  avg_0_Payment  avg_1_Payment  avg_2_Payment  avg_3_Payment  \\\n",
      "0       158868            0.0            0.0            0.0            0.0   \n",
      "1        50742            0.0            0.0            0.0            0.0   \n",
      "2       312916            0.0            0.0            0.0            0.0   \n",
      "3        62957            0.0            0.0            0.0            0.0   \n",
      "4       409251            0.0            0.0            0.0            0.0   \n",
      "...        ...            ...            ...            ...            ...   \n",
      "515083  318246            0.0            0.0            0.0            0.0   \n",
      "515084  383863            0.0            0.0            0.0            0.0   \n",
      "515085  151690            0.0            0.0            0.0            0.0   \n",
      "515086   33884            0.0            0.0            0.0            0.0   \n",
      "515087  215974            0.0            0.0            0.0            0.0   \n",
      "\n",
      "        avg_4_Payment  avg_5_Payment  avg_6_Payment  avg_7_Payment  \\\n",
      "0                 0.0            0.0   0.000000e+00            0.0   \n",
      "1                 0.0            0.0   0.000000e+00            0.0   \n",
      "2                 0.0            0.0   0.000000e+00            0.0   \n",
      "3                 0.0            0.0   0.000000e+00            0.0   \n",
      "4                 0.0            0.0   0.000000e+00            0.0   \n",
      "...               ...            ...            ...            ...   \n",
      "515083            0.0            0.0   1.659077e+06            0.0   \n",
      "515084            0.0            0.0   1.741008e+06            0.0   \n",
      "515085            0.0            0.0   4.434071e+06            0.0   \n",
      "515086            0.0            0.0   3.150817e+07            0.0   \n",
      "515087            0.0            0.0   3.036850e+04            0.0   \n",
      "\n",
      "        avg_8_Payment  ...  avg_14_Receiving  Receiving_currency_top  \\\n",
      "0                 0.0  ...               0.0                    13.0   \n",
      "1                 0.0  ...               0.0                    13.0   \n",
      "2                 0.0  ...               0.0                    13.0   \n",
      "3                 0.0  ...               0.0                    13.0   \n",
      "4                 0.0  ...               0.0                    13.0   \n",
      "...               ...  ...               ...                     ...   \n",
      "515083            0.0  ...               0.0                     6.0   \n",
      "515084            0.0  ...               0.0                     6.0   \n",
      "515085            0.0  ...               0.0                     6.0   \n",
      "515086            0.0  ...               0.0                     6.0   \n",
      "515087            0.0  ...               0.0                     6.0   \n",
      "\n",
      "        Receiving_0  Receiving_1  Receiving_2  Receiving_3  Receiving_4  \\\n",
      "0               0.0          0.0          0.0          1.0          0.0   \n",
      "1               0.0          0.0          0.0          0.0          0.0   \n",
      "2               0.0          0.0          0.0         17.0          7.0   \n",
      "3               0.0          0.0          7.0          8.0          0.0   \n",
      "4               0.0          0.0          0.0          8.0          8.0   \n",
      "...             ...          ...          ...          ...          ...   \n",
      "515083         11.0          0.0          2.0          9.0          7.0   \n",
      "515084          0.0          0.0          7.0          9.0          1.0   \n",
      "515085          9.0          0.0          9.0          9.0          9.0   \n",
      "515086          1.0          0.0          7.0         14.0          3.0   \n",
      "515087          1.0          0.0          0.0          0.0          1.0   \n",
      "\n",
      "        Receiving_5  Receiving_6   Bank  \n",
      "0               0.0          0.0     23  \n",
      "1               1.0          0.0     23  \n",
      "2               0.0          0.0     23  \n",
      "3               1.0          0.0     23  \n",
      "4               2.0          0.0     23  \n",
      "...             ...          ...    ...  \n",
      "515083          0.0          7.0  26505  \n",
      "515084          2.0          0.0  26505  \n",
      "515085          1.0          7.0  26505  \n",
      "515086          2.0          0.0  26505  \n",
      "515087          1.0          0.0  26505  \n",
      "\n",
      "[515088 rows x 48 columns]\n"
     ]
    }
   ],
   "source": [
    "#This code creates node tensors\n",
    "def create_node_tensors(main_df):\n",
    "    label_tensor = torch.from_numpy(main_df['Is Laundering'].values).to(torch.float)\n",
    "    main_df['Bank'] = main_df['account_id'].str.extract(r'(\\d{5})_')\n",
    "    main_df = main_df.drop(['account_id', 'Is Laundering'], axis=1)\n",
    "    main_df = encode_labels(main_df,['Bank'])\n",
    "    return main_df, label_tensor\n",
    "\n",
    "node_attr_df, label_tensor = create_node_tensors(full_df)\n",
    "print(node_attr_df)\n"
   ]
  },
  {
   "cell_type": "markdown",
   "metadata": {},
   "source": [
    "## Creating Edge features\n",
    "\n",
    "Each edge in the graph is a transaction. The following features will be used: time of the transaction, amount, currency, and format\n"
   ]
  },
  {
   "cell_type": "code",
   "execution_count": 154,
   "metadata": {},
   "outputs": [
    {
     "data": {
      "text/html": [
       "<div>\n",
       "<style scoped>\n",
       "    .dataframe tbody tr th:only-of-type {\n",
       "        vertical-align: middle;\n",
       "    }\n",
       "\n",
       "    .dataframe tbody tr th {\n",
       "        vertical-align: top;\n",
       "    }\n",
       "\n",
       "    .dataframe thead th {\n",
       "        text-align: right;\n",
       "    }\n",
       "</style>\n",
       "<table border=\"1\" class=\"dataframe\">\n",
       "  <thead>\n",
       "    <tr style=\"text-align: right;\">\n",
       "      <th></th>\n",
       "      <th>Timestamp</th>\n",
       "      <th>From Bank</th>\n",
       "      <th>Account</th>\n",
       "      <th>To Bank</th>\n",
       "      <th>Account.1</th>\n",
       "      <th>Amount Received</th>\n",
       "      <th>Receiving Currency</th>\n",
       "      <th>Amount Paid</th>\n",
       "      <th>Payment Currency</th>\n",
       "      <th>Payment Format</th>\n",
       "      <th>Is Laundering</th>\n",
       "      <th>account_id</th>\n",
       "      <th>r_account_id</th>\n",
       "      <th>From</th>\n",
       "      <th>To</th>\n",
       "    </tr>\n",
       "  </thead>\n",
       "  <tbody>\n",
       "    <tr>\n",
       "      <th>0</th>\n",
       "      <td>0.000786</td>\n",
       "      <td>10</td>\n",
       "      <td>8000EBD30</td>\n",
       "      <td>10</td>\n",
       "      <td>8000EBD30</td>\n",
       "      <td>3697.34</td>\n",
       "      <td>12</td>\n",
       "      <td>3697.34</td>\n",
       "      <td>12</td>\n",
       "      <td>5</td>\n",
       "      <td>0</td>\n",
       "      <td>10_8000EBD30</td>\n",
       "      <td>10_8000EBD30</td>\n",
       "      <td>NaN</td>\n",
       "      <td>NaN</td>\n",
       "    </tr>\n",
       "    <tr>\n",
       "      <th>1</th>\n",
       "      <td>0.000786</td>\n",
       "      <td>3208</td>\n",
       "      <td>8000F4580</td>\n",
       "      <td>1</td>\n",
       "      <td>8000F5340</td>\n",
       "      <td>0.01</td>\n",
       "      <td>12</td>\n",
       "      <td>0.01</td>\n",
       "      <td>12</td>\n",
       "      <td>3</td>\n",
       "      <td>0</td>\n",
       "      <td>3208_8000F4580</td>\n",
       "      <td>1_8000F5340</td>\n",
       "      <td>NaN</td>\n",
       "      <td>NaN</td>\n",
       "    </tr>\n",
       "    <tr>\n",
       "      <th>2</th>\n",
       "      <td>0.000000</td>\n",
       "      <td>3209</td>\n",
       "      <td>8000F4670</td>\n",
       "      <td>3209</td>\n",
       "      <td>8000F4670</td>\n",
       "      <td>14675.57</td>\n",
       "      <td>12</td>\n",
       "      <td>14675.57</td>\n",
       "      <td>12</td>\n",
       "      <td>5</td>\n",
       "      <td>0</td>\n",
       "      <td>3209_8000F4670</td>\n",
       "      <td>3209_8000F4670</td>\n",
       "      <td>NaN</td>\n",
       "      <td>NaN</td>\n",
       "    </tr>\n",
       "    <tr>\n",
       "      <th>3</th>\n",
       "      <td>0.000079</td>\n",
       "      <td>12</td>\n",
       "      <td>8000F5030</td>\n",
       "      <td>12</td>\n",
       "      <td>8000F5030</td>\n",
       "      <td>2806.97</td>\n",
       "      <td>12</td>\n",
       "      <td>2806.97</td>\n",
       "      <td>12</td>\n",
       "      <td>5</td>\n",
       "      <td>0</td>\n",
       "      <td>12_8000F5030</td>\n",
       "      <td>12_8000F5030</td>\n",
       "      <td>NaN</td>\n",
       "      <td>NaN</td>\n",
       "    </tr>\n",
       "    <tr>\n",
       "      <th>4</th>\n",
       "      <td>0.000236</td>\n",
       "      <td>10</td>\n",
       "      <td>8000F5200</td>\n",
       "      <td>10</td>\n",
       "      <td>8000F5200</td>\n",
       "      <td>36682.97</td>\n",
       "      <td>12</td>\n",
       "      <td>36682.97</td>\n",
       "      <td>12</td>\n",
       "      <td>5</td>\n",
       "      <td>0</td>\n",
       "      <td>10_8000F5200</td>\n",
       "      <td>10_8000F5200</td>\n",
       "      <td>NaN</td>\n",
       "      <td>NaN</td>\n",
       "    </tr>\n",
       "  </tbody>\n",
       "</table>\n",
       "</div>"
      ],
      "text/plain": [
       "   Timestamp  From Bank    Account  To Bank  Account.1  Amount Received  \\\n",
       "0   0.000786         10  8000EBD30       10  8000EBD30          3697.34   \n",
       "1   0.000786       3208  8000F4580        1  8000F5340             0.01   \n",
       "2   0.000000       3209  8000F4670     3209  8000F4670         14675.57   \n",
       "3   0.000079         12  8000F5030       12  8000F5030          2806.97   \n",
       "4   0.000236         10  8000F5200       10  8000F5200         36682.97   \n",
       "\n",
       "   Receiving Currency  Amount Paid  Payment Currency  Payment Format  \\\n",
       "0                  12      3697.34                12               5   \n",
       "1                  12         0.01                12               3   \n",
       "2                  12     14675.57                12               5   \n",
       "3                  12      2806.97                12               5   \n",
       "4                  12     36682.97                12               5   \n",
       "\n",
       "   Is Laundering      account_id    r_account_id  From  To  \n",
       "0              0    10_8000EBD30    10_8000EBD30   NaN NaN  \n",
       "1              0  3208_8000F4580     1_8000F5340   NaN NaN  \n",
       "2              0  3209_8000F4670  3209_8000F4670   NaN NaN  \n",
       "3              0    12_8000F5030    12_8000F5030   NaN NaN  \n",
       "4              0    10_8000F5200    10_8000F5200   NaN NaN  "
      ]
     },
     "execution_count": 154,
     "metadata": {},
     "output_type": "execute_result"
    }
   ],
   "source": [
    "df.head()"
   ]
  },
  {
   "cell_type": "code",
   "execution_count": 155,
   "metadata": {},
   "outputs": [
    {
     "name": "stdout",
     "output_type": "stream",
     "text": [
      "   Timestamp  Amount Received  Receiving Currency  Amount Paid  \\\n",
      "0   0.000786          3697.34                  12      3697.34   \n",
      "1   0.000786             0.01                  12         0.01   \n",
      "2   0.000000         14675.57                  12     14675.57   \n",
      "3   0.000079          2806.97                  12      2806.97   \n",
      "4   0.000236         36682.97                  12     36682.97   \n",
      "\n",
      "   Payment Currency  Payment Format  \n",
      "0                12               5  \n",
      "1                12               3  \n",
      "2                12               5  \n",
      "3                12               5  \n",
      "4                12               5  \n"
     ]
    }
   ],
   "source": [
    "def create_edge_attr(node_df, df):\n",
    "        node_df = node_df.reset_index(drop=True)\n",
    "        node_df['ID'] = node_df.index\n",
    "        mapping_dict = dict(zip(node_df['account_id'], node_df['ID']))\n",
    "        df['From'] = df['account_id'].map(mapping_dict)\n",
    "        df['To'] = df['r_account_id'].map(mapping_dict)\n",
    "        df = df.drop(['Account', 'Account.1', 'From Bank', 'To Bank', 'account_id', 'r_account_id'], axis=1)\n",
    "        edge_index = torch.stack([torch.from_numpy(df['From'].values), torch.from_numpy(df['To'].values)], dim=0)\n",
    "        df = df.drop(['Is Laundering', 'From', 'To'], axis=1)\n",
    "        edge_attr = df\n",
    "        return edge_attr, edge_index\n",
    "\n",
    "edge_attr, edge_index = create_edge_attr(node_df, df)\n",
    "print(edge_attr.head())\n"
   ]
  },
  {
   "cell_type": "markdown",
   "metadata": {},
   "source": [
    "## Building the network"
   ]
  },
  {
   "cell_type": "code",
   "execution_count": null,
   "metadata": {},
   "outputs": [],
   "source": [
    "import torch\n",
    "import torch.nn as nn\n",
    "import torch.nn.functional as F\n",
    "import torch_geometric.transforms as T\n",
    "from torch_geometric.nn import GATConv, Linear\n",
    "\n",
    "\n",
    "#This class defines the layers of the function (Two GAT layers followed by a linear one and sigmoid output)\n",
    "class GAT(torch.nn.Module):\n",
    "    def __init__(self, in_channels, hidden_channels, out_channels, heads):\n",
    "        super().__init__()\n",
    "        self.conv1 = GATConv(in_channels, hidden_channels, heads, dropout=0.6)\n",
    "        self.conv2 = GATConv(hidden_channels * heads, int(hidden_channels/4), heads=1, concat=False, dropout=0.6)\n",
    "        self.lin = Linear(int(hidden_channels/4), out_channels)\n",
    "        self.sigmoid = nn.Sigmoid()\n",
    "\n",
    "#The forward steps of the neural network\n",
    "    def forward(self, x, edge_index, edge_attr):\n",
    "        x = F.dropout(x, p=0.6, training=self.training)\n",
    "        x = F.elu(self.conv1(x, edge_index, edge_attr))\n",
    "        x = F.dropout(x, p=0.6, training=self.training)\n",
    "        x = F.elu(self.conv2(x, edge_index, edge_attr))\n",
    "        x = self.lin(x)\n",
    "        x = self.sigmoid(x)\n",
    "        \n",
    "        return x"
   ]
  },
  {
   "cell_type": "markdown",
   "metadata": {},
   "source": [
    "### Defining training functions "
   ]
  },
  {
   "cell_type": "code",
   "execution_count": 161,
   "metadata": {},
   "outputs": [],
   "source": [
    "class AMLtoGraph(InMemoryDataset):\n",
    "\n",
    "    def __init__(self, root: str, edge_window_size: int = 10,\n",
    "                 transform: Optional[Callable] = None,\n",
    "                 pre_transform: Optional[Callable] = None):\n",
    "        self.edge_window_size = edge_window_size\n",
    "        super().__init__(root, transform, pre_transform)\n",
    "        self.data, self.slices = torch.load(self.processed_paths[0])\n",
    "\n",
    "    @property\n",
    "    def raw_file_names(self) -> str:\n",
    "        return '/Users/pavemakouski/Documents/RP_records/Code/datasets/HI-Small_Trans.csv'\n",
    "\n",
    "    @property\n",
    "    def processed_file_names(self) -> str:\n",
    "        return '/Users/pavemakouski/Documents/RP_records/Code/datasets/data.pt'\n",
    "\n",
    "    @property\n",
    "    def num_nodes(self) -> int:\n",
    "        return self._data.edge_index.max().item() + 1\n",
    "\n",
    "    def encode_labels(df, columns):\n",
    "        le = LabelEncoder()  \n",
    "        for i in columns:                  \n",
    "            df[i] = le.fit_transform(df[i].astype(str))  \n",
    "        return df\n",
    "    '''\n",
    "    Inserting all previous functions into classes\n",
    "    '''\n",
    "    #Normalizing time (converting to time elapsed)\n",
    "\n",
    "    def normal_time(df, time_column):\n",
    "        df[time_column] = pd.to_datetime(df[time_column])\n",
    "        df[time_column] = df[time_column].apply(lambda x: x.value)\n",
    "        scaler = MinMaxScaler()\n",
    "        df[time_column] = scaler.fit_transform(df[[time_column]])\n",
    "        return df\n",
    "\n",
    "    #Creating unique account ids\n",
    "    def unique_account(col1, col2):\n",
    "        return col1 + \"_\" + col2\n",
    "    \n",
    "    \n",
    "    \n",
    "    def pre_process_df(df):\n",
    "        df = encode_labels(df, ['Receiving Currency', 'Payment Currency', 'Payment Format'])\n",
    "        df = normal_time(df, 'Timestamp')\n",
    "        df['account_id'] = df.apply(lambda row: unique_account(str(row['From Bank']), row['Account']), axis=1)\n",
    "        df['r_account_id'] = df.apply(lambda row: unique_account(str(row['To Bank']), row['Account.1']), axis=1)\n",
    "        df =df.sort_values(by = ['account_id'])\n",
    "        return df\n",
    "\n",
    "    def get_node_df(df):\n",
    "        #Clean accounts first\n",
    "        clean_df = df[df['Is Laundering'] == 0]\n",
    "        clean_accounts = list(set(clean_df['account_id'].to_list() + clean_df['r_account_id'].to_list()))\n",
    "        clean_nodes_df = pd.DataFrame({'account_id': clean_accounts, 'Is Laundering': 0})\n",
    "        \n",
    "        #Dirty accounts\n",
    "        dirty_df = df[df['Is Laundering'] == 1]\n",
    "        dirty_accounts = list(set(dirty_df['account_id'].to_list() + dirty_df['r_account_id'].to_list()))\n",
    "        dirty_nodes_df =  pd.DataFrame({'account_id': dirty_accounts, 'Is Laundering': 1})\n",
    "        \n",
    "        combined_df = pd.concat([clean_nodes_df, dirty_nodes_df])\n",
    "        nodes_df = combined_df.drop_duplicates(subset='account_id', keep='last')\n",
    "        nodes_df = nodes_df.sort_values(by = ['account_id']).reset_index()\n",
    "        return nodes_df\n",
    "    \n",
    "    def generate_features(mini_df, node_df, column_name):\n",
    "        '''\n",
    "        mini_df -- refers to a pd.df object containing either payment or receiving account data \n",
    "        node_df -- refers to a pd.df object with a list of all accounts and their status (whether or not they have been involved in laundering)\n",
    "        column_name (str) -- either 'Payment' or 'Receiving' to indicate which dataframe you are drawing data from\n",
    "        '''\n",
    "        #I checked that each df contains all currencies\n",
    "        if column_name == \"Payment\":\n",
    "            group_column = 'Amount Paid'\n",
    "        elif column_name == \"Receiving\":\n",
    "            group_column = 'Amount Received'\n",
    "        else:\n",
    "            return \"You are entering an invalid column name\"\n",
    "            \n",
    "        currency_list = mini_df[f'{column_name} Currency'].unique()\n",
    "        currency_list = sorted([int(x) for x in currency_list])\n",
    "        #Getting data on payment methods\n",
    "        pm_df = (mini_df.groupby(['account_id', 'Payment Format'])['account_id']\n",
    "                .count()\n",
    "                .reset_index(name = 'format_count')\n",
    "                .pivot(index = \"account_id\", columns = 'Payment Format', values = 'format_count')\n",
    "                .reset_index()\n",
    "                .fillna(0))\n",
    "        #Renaming the columns \n",
    "        pm_df.columns = [f'{column_name}_{col}' if i != 0 else col for i, col in enumerate(pm_df.columns)]\n",
    "        #Calculating average amount for each currency and  number of transactions in each\n",
    "        pf_df = (mini_df.groupby(['account_id', f'{column_name} Currency'])['Payment Format']\n",
    "        .count()\n",
    "        .reset_index(name = f'currency_count'))\n",
    "        pf_df = pf_df.sort_values(by = [f'currency_count'], ascending = False)\n",
    "        #NAs in top df occur if an account was not used for payment or did not receive any money\n",
    "        top_df = pf_df.loc[pf_df.groupby('account_id')[f'currency_count'].idxmax()].reset_index(drop=True)\n",
    "        top_df = (top_df[['account_id', f'{column_name} Currency']].\n",
    "            rename({f'{column_name} Currency': f\"{column_name}_currency_top\"}, axis =1))\n",
    "        #Manipulating currencies\n",
    "        for currency in currency_list:\n",
    "            currency_df = mini_df[mini_df[f\"{column_name} Currency\"] == currency]\n",
    "            currency_df = currency_df[['account_id', group_column]].groupby('account_id').mean(group_column)\n",
    "            node_df = node_df.merge(currency_df, how='left', on = 'account_id')\n",
    "            node_df.rename(columns = {node_df.columns[-1]: f'avg_{currency}_{column_name}'}, inplace = True)\n",
    "        node_df = node_df.fillna(0)\n",
    "        node_df = node_df.merge(top_df, how = \"left\", on = \"account_id\")\n",
    "        node_df = node_df.merge(pm_df, how = \"left\", on = \"account_id\")\n",
    "        return node_df\n",
    "    \n",
    "    def create_node_tensors(main_df):\n",
    "        label_tensor = torch.from_numpy(main_df['Is Laundering'].values).to(torch.float)\n",
    "        main_df['Bank'] = main_df['account_id'].str.extract(r'(\\d{5})_')\n",
    "        main_df = main_df.drop(['account_id', 'Is Laundering'], axis=1)\n",
    "        main_df = encode_labels(main_df,['Bank'])\n",
    "        return main_df, label_tensor\n",
    "\n",
    "    def create_edge_attr(node_df, df):\n",
    "        node_df = node_df.reset_index(drop=True)\n",
    "        node_df['ID'] = node_df.index\n",
    "        mapping_dict = dict(zip(node_df['account_id'], node_df['ID']))\n",
    "        df['From'] = df['account_id'].map(mapping_dict)\n",
    "        df['To'] = df['r_account_id'].map(mapping_dict)\n",
    "        df = df.drop(['Account', 'Account.1', 'From Bank', 'To Bank', 'account_id', 'r_account_id'], axis=1)\n",
    "        edge_index = torch.stack([torch.from_numpy(df['From'].values), torch.from_numpy(df['To'].values)], dim=0)\n",
    "        df = df.drop(['Is Laundering', 'From', 'To'], axis=1)\n",
    "        edge_attr = df\n",
    "        return edge_attr, edge_index\n",
    "\n",
    "    def process(self):\n",
    "        df = pd.read_csv(self.raw_paths[0])\n",
    "        trans_df = self.pre_process_df(df)\n",
    "        sending_df = trans_df[['account_id', 'Payment Currency', 'Amount Paid', 'Payment Format']]\n",
    "        receiving_df = (trans_df[['r_account_id', 'Receiving Currency', 'Amount Received', 'Payment Format']]\n",
    "                        .rename({\"r_account_id\": \"account_id\"}, axis = 1))\n",
    "        node_df = self.get_node_df(trans_df)\n",
    "        payment_df = self.generate_features(sending_df, node_df, 'Payment')\n",
    "        received_df = self.generate_features(receiving_df, node_df, 'Receiving').drop(columns = ['Is Laundering', 'index'])\n",
    "        #Putting all the features together into one dataframe\n",
    "        full_df = payment_df.merge(received_df, how = \"left\", on = 'account_id')\n",
    "        node_attr_df, label_tensor = self.create_node_tensors(full_df)\n",
    "        edge_attr, edge_index = self.create_edge_attr(node_df, df)\n",
    "        #Building a graph in pytorch geometric\n",
    "        data = Data(x=node_attr_df,\n",
    "                    edge_index=edge_index,\n",
    "                    y=label_tensor,\n",
    "                    edge_attr=edge_attr\n",
    "                    )\n",
    "        \n",
    "        data_list = [data] \n",
    "        if self.pre_filter is not None:\n",
    "            data_list = [d for d in data_list if self.pre_filter(d)]\n",
    "\n",
    "        if self.pre_transform is not None:\n",
    "            data_list = [self.pre_transform(d) for d in data_list]\n",
    "\n",
    "        data, slices = self.collate(data_list)\n",
    "        torch.save((data, slices), self.processed_paths[0])"
   ]
  },
  {
   "cell_type": "markdown",
   "metadata": {},
   "source": [
    "## Training the model"
   ]
  },
  {
   "cell_type": "code",
   "execution_count": null,
   "metadata": {},
   "outputs": [],
   "source": [
    "device = torch.device('cuda' if torch.cuda.is_available() else 'cpu')\n",
    "dataset = AMLtoGraph('data')\n",
    "data = dataset[0]\n",
    "epoch = 100\n",
    "\n",
    "model = GAT(in_channels=data.num_features, hidden_channels=16, out_channels=1, heads=8)\n",
    "model = model.to(device)\n",
    "criterion = torch.nn.BCELoss()\n",
    "optimizer = torch.optim.SGD(model.parameters(), lr=0.0001)\n",
    "\n",
    "split = T.RandomNodeSplit(split='train_rest', num_val=0.1, num_test=0)\n",
    "data = split(data)\n",
    "\n",
    "train_loader = loader = NeighborLoader(\n",
    "    data,\n",
    "    num_neighbors=[30] * 2,\n",
    "    batch_size=256,\n",
    "    input_nodes=data.train_mask,\n",
    ")\n",
    "\n",
    "test_loader = loader = NeighborLoader(\n",
    "    data,\n",
    "    num_neighbors=[30] * 2,\n",
    "    batch_size=256,\n",
    "    input_nodes=data.val_mask,\n",
    ")\n",
    "\n",
    "for i in range(epoch):\n",
    "    total_loss = 0\n",
    "    model.train()\n",
    "    for data in train_loader:\n",
    "        optimizer.zero_grad()\n",
    "        data.to(device)\n",
    "        pred = model(data.x, data.edge_index, data.edge_attr)\n",
    "        ground_truth = data.y\n",
    "        loss = criterion(pred, ground_truth.unsqueeze(1))\n",
    "        loss.backward()\n",
    "        optimizer.step()\n",
    "        total_loss += float(loss)\n",
    "    if epoch%10 == 0:\n",
    "        print(f\"Epoch: {i:03d}, Loss: {total_loss:.4f}\")\n",
    "        model.eval()\n",
    "        acc = 0\n",
    "        total = 0\n",
    "        for test_data in test_loader:\n",
    "            test_data.to(device)\n",
    "            pred = model(test_data.x, test_data.edge_index, test_data.edge_attr)\n",
    "            ground_truth = test_data.y\n",
    "            correct = (pred == ground_truth.unsqueeze(1)).sum().item()\n",
    "            total += len(ground_truth)\n",
    "            acc += correct\n",
    "        acc = acc/total\n",
    "        print('accuracy:', acc)"
   ]
  }
 ],
 "metadata": {
  "kernelspec": {
   "display_name": "myenv",
   "language": "python",
   "name": "python3"
  },
  "language_info": {
   "codemirror_mode": {
    "name": "ipython",
    "version": 3
   },
   "file_extension": ".py",
   "mimetype": "text/x-python",
   "name": "python",
   "nbconvert_exporter": "python",
   "pygments_lexer": "ipython3",
   "version": "3.11.4"
  }
 },
 "nbformat": 4,
 "nbformat_minor": 2
}
